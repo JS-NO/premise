{
 "cells": [
  {
   "cell_type": "code",
   "id": "initial_id",
   "metadata": {
    "collapsed": true,
    "ExecuteTime": {
     "end_time": "2024-11-07T10:08:54.443091Z",
     "start_time": "2024-11-07T10:08:52.933892Z"
    }
   },
   "source": [
    "from premise import *\n",
    "import bw2data"
   ],
   "outputs": [],
   "execution_count": 1
  },
  {
   "metadata": {
    "ExecuteTime": {
     "end_time": "2024-11-07T10:08:54.841172Z",
     "start_time": "2024-11-07T10:08:54.766520Z"
    }
   },
   "cell_type": "code",
   "source": "bw2data.projects.set_current(\"ecoinvent-3.10-cutoff\")",
   "id": "be419e113433336f",
   "outputs": [],
   "execution_count": 2
  },
  {
   "metadata": {
    "ExecuteTime": {
     "end_time": "2024-11-07T10:09:01.155299Z",
     "start_time": "2024-11-07T10:08:57.331912Z"
    }
   },
   "cell_type": "code",
   "source": [
    "ndb = NewDatabase(\n",
    "    scenarios=[\n",
    "        {\"model\":\"image\", \"pathway\":\"SSP2-Base\", \"year\":2050},\n",
    "        #{\"model\":\"image\", \"pathway\":\"SSP2-Base\", \"year\":2030},\n",
    "    ],\n",
    "    source_db=\"ecoinvent-3.10-cutoff\", # <-- name of the database in the BW2 project. Must be a string.\n",
    "    source_version=\"3.10\", # <-- version of ecoinvent. Can be \"3.5\", \"3.6\", \"3.7\" or \"3.8\". Must be a string.\n",
    "    key=\"tUePmX_S5B8ieZkkM7WUU2CnO8SmShwmAeWK9x2rTFo=\",\n",
    "    biosphere_name=\"ecoinvent-3.10-biosphere\",\n",
    "    keep_imports_uncertainty=True\n",
    ")"
   ],
   "id": "39ba05d4593d0d27",
   "outputs": [
    {
     "name": "stdout",
     "output_type": "stream",
     "text": [
      "premise v.(2, 1, 8)\n",
      "+------------------------------------------------------------------+\n",
      "| Warning                                                          |\n",
      "+------------------------------------------------------------------+\n",
      "| Because some of the scenarios can yield LCI databases            |\n",
      "| containing net negative emission technologies (NET),             |\n",
      "| it is advised to account for biogenic CO2 flows when calculating |\n",
      "| Global Warming potential indicators.                             |\n",
      "| `premise_gwp` provides characterization factors for such flows.  |\n",
      "| It also provides factors for hydrogen emissions to air.          |\n",
      "|                                                                  |\n",
      "| Within your bw2 project:                                         |\n",
      "| from premise_gwp import add_premise_gwp                          |\n",
      "| add_premise_gwp()                                                |\n",
      "+------------------------------------------------------------------+\n",
      "+--------------------------------+----------------------------------+\n",
      "| Utils functions                | Description                      |\n",
      "+--------------------------------+----------------------------------+\n",
      "| clear_cache()                  | Clears the cache folder. Useful  |\n",
      "|                                | when updating `premise`or        |\n",
      "|                                | encountering issues with         |\n",
      "|                                | inventories.                     |\n",
      "+--------------------------------+----------------------------------+\n",
      "| get_regions_definition(model)  | Retrieves the list of countries  |\n",
      "|                                | for each region of the model.    |\n",
      "+--------------------------------+----------------------------------+\n",
      "| ndb.NewDatabase(...)           | Generates a summary of the most  |\n",
      "| ndb.generate_scenario_report() | important scenarios' variables.  |\n",
      "+--------------------------------+----------------------------------+\n",
      "Keep uncertainty data?\n",
      "NewDatabase(..., keep_source_db_uncertainty=True), keep_imports_uncertainty=True)\n",
      "\n",
      "Hide these messages?\n",
      "NewDatabase(..., quiet=True)\n",
      "- Extracting source database\n",
      "- Extracting inventories\n",
      "- Fetching IAM data\n",
      "Done!\n"
     ]
    }
   ],
   "execution_count": 3
  },
  {
   "metadata": {
    "ExecuteTime": {
     "end_time": "2024-11-07T10:09:07.282590Z",
     "start_time": "2024-11-07T10:09:01.156163Z"
    }
   },
   "cell_type": "code",
   "source": "ndb.update(\"renewables\")",
   "id": "c437afba0c999505",
   "outputs": [
    {
     "name": "stderr",
     "output_type": "stream",
     "text": [
      "Processing scenarios for sector 'renewables':   0%| | 0/1 [00:00<?, ?i"
     ]
    },
    {
     "name": "stdout",
     "output_type": "stream",
     "text": [
      "AT\n",
      "BE\n",
      "CA\n",
      "CH\n",
      "DE\n",
      "DK\n",
      "ES\n",
      "FI\n",
      "FR\n",
      "IE\n",
      "IT\n",
      "JP\n",
      "KR\n",
      "NL\n",
      "NO\n",
      "PT\n",
      "SE\n",
      "UK\n",
      "US\n",
      "+---------+-----------------+---------+---------------------+-------------------+\n",
      "| Country | Capacity factor |   Type  | Lifetime prod [kWh] | Annual prod [kWh] |\n",
      "+---------+-----------------+---------+---------------------+-------------------+\n",
      "|    AT   |       27.5      | onshore |      254060366      |     12703018.3    |\n",
      "|    BE   |       21.5      | onshore |      198629014      |     9931450.7     |\n",
      "|    CA   |       30.1      | onshore |      278080619      |    13904030.95    |\n",
      "|    CH   |       23.9      | onshore |      220801555      |    11040077.75    |\n",
      "|    DE   |       20.1      | onshore |      185695031      |     9284751.55    |\n",
      "|    DK   |       25.2      | onshore |      232811681      |    11640584.05    |\n",
      "|    ES   |       24.0      | onshore |      221725411      |    11086270.55    |\n",
      "|    FI   |       33.2      | onshore |      306720152      |     15336007.6    |\n",
      "|    FR   |       21.9      | onshore |      202324437      |    10116221.85    |\n",
      "|    IE   |       28.2      | onshore |      260527358      |     13026367.9    |\n",
      "|    IT   |       20.9      | onshore |      193085878      |     9654293.9     |\n",
      "|    JP   |       21.5      | onshore |      198629014      |     9931450.7     |\n",
      "|    KR   |       21.6      | onshore |      199552870      |     9977643.5     |\n",
      "|    NL   |       26.2      | onshore |      242050240      |     12102512.0    |\n",
      "|    NO   |       34.6      | onshore |      319654134      |     15982706.7    |\n",
      "|    PT   |       26.7      | onshore |      246669519      |    12333475.95    |\n",
      "|    SE   |       28.6      | onshore |      264222781      |    13211139.05    |\n",
      "|    UK   |       27.4      | onshore |      253136511      |    12656825.55    |\n",
      "|    US   |       35.5      | onshore |      327968837      |    16398441.85    |\n",
      "+---------+-----------------+---------+---------------------+-------------------+\n",
      "AT\n",
      "BE\n",
      "CA\n",
      "CH\n",
      "DE\n",
      "DK\n",
      "ES\n",
      "FI\n",
      "FR\n",
      "IE\n",
      "IT\n",
      "JP\n",
      "KR\n",
      "NL\n",
      "NO\n",
      "PT\n",
      "SE\n",
      "UK\n",
      "US\n",
      "+---------+-----------------+----------+---------------------+-------------------+\n",
      "| Country | Capacity factor |   Type   | Lifetime prod [kWh] | Annual prod [kWh] |\n",
      "+---------+-----------------+----------+---------------------+-------------------+\n",
      "|    AT   |       27.5      | offshore |      923056530      |     46152826.5    |\n",
      "|    BE   |       33.6      | offshore |      1127807251     |    56390362.55    |\n",
      "|    CA   |       30.1      | offshore |      1010327329     |    50516366.45    |\n",
      "|    CH   |       26.7      | offshore |      896203976      |     44810198.8    |\n",
      "|    DE   |       36.1      | offshore |      1211721481     |    60586074.05    |\n",
      "|    DK   |       43.3      | offshore |      1453394463     |    72669723.15    |\n",
      "|    ES   |       24.0      | offshore |      805576608      |     40278830.4    |\n",
      "|    FI   |       33.2      | offshore |      1114380974     |     55719048.7    |\n",
      "|    FR   |       21.9      | offshore |      735088654      |     36754432.7    |\n",
      "|    IE   |       34.8      | offshore |      1168086081     |    58404304.05    |\n",
      "|    IT   |       20.9      | offshore |      701522962      |     35076148.1    |\n",
      "|    JP   |       21.5      | offshore |      721662378      |     36083118.9    |\n",
      "|    KR   |       21.6      | offshore |      725018947      |    36250947.35    |\n",
      "|    NL   |       37.8      | offshore |      1268783157     |    63439157.85    |\n",
      "|    NO   |       34.6      | offshore |      1161372943     |    58068647.15    |\n",
      "|    PT   |       26.7      | offshore |      896203976      |     44810198.8    |\n",
      "|    SE   |       32.5      | offshore |      1090884989     |    54544249.45    |\n",
      "|    UK   |       40.8      | offshore |      1369480233     |    68474011.65    |\n",
      "|    US   |       44.0      | offshore |      1476890448     |     73844522.4    |\n",
      "+---------+-----------------+----------+---------------------+-------------------+\n"
     ]
    },
    {
     "name": "stderr",
     "output_type": "stream",
     "text": [
      "Processing scenarios for sector 'renewables': 100%|█| 1/1 [00:06<00:00"
     ]
    },
    {
     "name": "stdout",
     "output_type": "stream",
     "text": [
      "Done!\n",
      "\n"
     ]
    },
    {
     "name": "stderr",
     "output_type": "stream",
     "text": [
      "\n"
     ]
    }
   ],
   "execution_count": 4
  },
  {
   "metadata": {
    "ExecuteTime": {
     "end_time": "2024-11-07T10:09:42.364047Z",
     "start_time": "2024-11-07T10:09:26.965950Z"
    }
   },
   "cell_type": "code",
   "source": "ndb.write_db_to_brightway(\"test wind turbines 1\")",
   "id": "52ad28a8b8965ca3",
   "outputs": [
    {
     "name": "stdout",
     "output_type": "stream",
     "text": [
      "Write new database(s) to Brightway.\n",
      "Running all checks...\n",
      "Minor anomalies found: check the change report.\n"
     ]
    },
    {
     "ename": "NonuniqueCode",
     "evalue": "The following activities have non-unique codes: ['electricity production, wind, 5.3MW turbine, onshore', 'electricity production, wind, 5.3MW turbine, onshore', 'electricity production, wind, 5.3MW turbine, onshore', 'electricity production, wind, 5.3MW turbine, onshore', 'electricity production, wind, 5.3MW turbine, onshore', 'electricity production, wind, 5.3MW turbine, onshore', 'electricity production, wind, 5.3MW turbine, onshore', 'electricity production, wind, 5.3MW turbine, onshore', 'electricity production, wind, 5.3MW turbine, onshore', 'electricity production, wind, 5.3MW turbine, onshore', 'electricity production, wind, 5.3MW turbine, onshore', 'electricity production, wind, 5.3MW turbine, onshore', 'electricity production, wind, 5.3MW turbine, onshore', 'electricity production, wind, 19.2MW turbine, offshore', 'electricity production, wind, 19.2MW turbine, offshore', 'electricity production, wind, 19.2MW turbine, offshore', 'electricity production, wind, 19.2MW turbine, offshore', 'electricity production, wind, 19.2MW turbine, offshore', 'electricity production, wind, 19.2MW turbine, offshore', 'electricity production, wind, 19.2MW turbine, offshore', 'electricity production, wind, 19.2MW turbine, offshore', 'electricity production, wind, 19.2MW turbine, offshore', 'electricity production, wind, 19.2MW turbine, offshore', 'electricity production, wind, 19.2MW turbine, offshore', 'electricity production, wind, 19.2MW turbine, offshore', 'electricity production, wind, 19.2MW turbine, offshore']",
     "output_type": "error",
     "traceback": [
      "\u001B[0;31m---------------------------------------------------------------------------\u001B[0m",
      "\u001B[0;31mNonuniqueCode\u001B[0m                             Traceback (most recent call last)",
      "Cell \u001B[0;32mIn[5], line 1\u001B[0m\n\u001B[0;32m----> 1\u001B[0m \u001B[43mndb\u001B[49m\u001B[38;5;241;43m.\u001B[39;49m\u001B[43mwrite_db_to_brightway\u001B[49m\u001B[43m(\u001B[49m\u001B[38;5;124;43m\"\u001B[39;49m\u001B[38;5;124;43mtest wind turbines 1\u001B[39;49m\u001B[38;5;124;43m\"\u001B[39;49m\u001B[43m)\u001B[49m\n",
      "File \u001B[0;32m~/Github/premise-johanna/premise/new_database.py:1113\u001B[0m, in \u001B[0;36mNewDatabase.write_db_to_brightway\u001B[0;34m(self, name)\u001B[0m\n\u001B[1;32m   1105\u001B[0m     scenario[\u001B[38;5;124m\"\u001B[39m\u001B[38;5;124mdatabase\u001B[39m\u001B[38;5;124m\"\u001B[39m] \u001B[38;5;241m=\u001B[39m pickle\u001B[38;5;241m.\u001B[39mloads(pickle\u001B[38;5;241m.\u001B[39mdumps(\u001B[38;5;28mself\u001B[39m\u001B[38;5;241m.\u001B[39mdatabase, \u001B[38;5;241m-\u001B[39m\u001B[38;5;241m1\u001B[39m))\n\u001B[1;32m   1107\u001B[0m _prepare_database(\n\u001B[1;32m   1108\u001B[0m     scenario\u001B[38;5;241m=\u001B[39mscenario,\n\u001B[1;32m   1109\u001B[0m     db_name\u001B[38;5;241m=\u001B[39mname[s],\n\u001B[1;32m   1110\u001B[0m     original_database\u001B[38;5;241m=\u001B[39m\u001B[38;5;28mself\u001B[39m\u001B[38;5;241m.\u001B[39mdatabase,\n\u001B[1;32m   1111\u001B[0m     biosphere_name\u001B[38;5;241m=\u001B[39m\u001B[38;5;28mself\u001B[39m\u001B[38;5;241m.\u001B[39mbiosphere_name,\n\u001B[1;32m   1112\u001B[0m )\n\u001B[0;32m-> 1113\u001B[0m \u001B[43mwrite_brightway_database\u001B[49m\u001B[43m(\u001B[49m\n\u001B[1;32m   1114\u001B[0m \u001B[43m    \u001B[49m\u001B[43mscenario\u001B[49m\u001B[43m[\u001B[49m\u001B[38;5;124;43m\"\u001B[39;49m\u001B[38;5;124;43mdatabase\u001B[39;49m\u001B[38;5;124;43m\"\u001B[39;49m\u001B[43m]\u001B[49m\u001B[43m,\u001B[49m\n\u001B[1;32m   1115\u001B[0m \u001B[43m    \u001B[49m\u001B[43mname\u001B[49m\u001B[43m[\u001B[49m\u001B[43ms\u001B[49m\u001B[43m]\u001B[49m\u001B[43m,\u001B[49m\n\u001B[1;32m   1116\u001B[0m \u001B[43m\u001B[49m\u001B[43m)\u001B[49m\n\u001B[1;32m   1117\u001B[0m \u001B[38;5;66;03m# delete the database from the scenario\u001B[39;00m\n\u001B[1;32m   1118\u001B[0m \u001B[38;5;28;01mdel\u001B[39;00m scenario[\u001B[38;5;124m\"\u001B[39m\u001B[38;5;124mdatabase\u001B[39m\u001B[38;5;124m\"\u001B[39m]\n",
      "File \u001B[0;32m~/Github/premise-johanna/premise/brightway2.py:48\u001B[0m, in \u001B[0;36mwrite_brightway_database\u001B[0;34m(data, name)\u001B[0m\n\u001B[1;32m     46\u001B[0m link_internal(data)\n\u001B[1;32m     47\u001B[0m check_internal_linking(data)\n\u001B[0;32m---> 48\u001B[0m \u001B[43mBW2Importer\u001B[49m\u001B[43m(\u001B[49m\u001B[43mname\u001B[49m\u001B[43m,\u001B[49m\u001B[43m \u001B[49m\u001B[43mdata\u001B[49m\u001B[43m)\u001B[49m\u001B[38;5;241;43m.\u001B[39;49m\u001B[43mwrite_database\u001B[49m\u001B[43m(\u001B[49m\u001B[43m)\u001B[49m\n",
      "File \u001B[0;32m~/Github/premise-johanna/premise/brightway2.py:36\u001B[0m, in \u001B[0;36mBW2Importer.write_database\u001B[0;34m(self)\u001B[0m\n\u001B[1;32m     34\u001B[0m     \u001B[38;5;28mprint\u001B[39m(\u001B[38;5;124mf\u001B[39m\u001B[38;5;124m\"\u001B[39m\u001B[38;5;124mDatabase \u001B[39m\u001B[38;5;132;01m{\u001B[39;00m\u001B[38;5;28mself\u001B[39m\u001B[38;5;241m.\u001B[39mdb_name\u001B[38;5;132;01m}\u001B[39;00m\u001B[38;5;124m already exists: it will be overwritten.\u001B[39m\u001B[38;5;124m\"\u001B[39m)\n\u001B[1;32m     35\u001B[0m     \u001B[38;5;28;01mdel\u001B[39;00m databases[\u001B[38;5;28mself\u001B[39m\u001B[38;5;241m.\u001B[39mdb_name]\n\u001B[0;32m---> 36\u001B[0m \u001B[38;5;28;43msuper\u001B[39;49m\u001B[43m(\u001B[49m\u001B[43m)\u001B[49m\u001B[38;5;241;43m.\u001B[39;49m\u001B[43mwrite_database\u001B[49m\u001B[43m(\u001B[49m\u001B[43m)\u001B[49m\n",
      "File \u001B[0;32m~/anaconda3/envs/premise/lib/python3.10/site-packages/bw2io/importers/base_lci.py:250\u001B[0m, in \u001B[0;36mLCIImporter.write_database\u001B[0;34m(self, data, delete_existing, backend, activate_parameters, **kwargs)\u001B[0m\n\u001B[1;32m    248\u001B[0m             seen\u001B[38;5;241m.\u001B[39madd(o[\u001B[38;5;124m\"\u001B[39m\u001B[38;5;124mcode\u001B[39m\u001B[38;5;124m\"\u001B[39m])\n\u001B[1;32m    249\u001B[0m     error \u001B[38;5;241m=\u001B[39m \u001B[38;5;124m\"\u001B[39m\u001B[38;5;124mThe following activities have non-unique codes: \u001B[39m\u001B[38;5;132;01m{}\u001B[39;00m\u001B[38;5;124m\"\u001B[39m\n\u001B[0;32m--> 250\u001B[0m     \u001B[38;5;28;01mraise\u001B[39;00m NonuniqueCode(error\u001B[38;5;241m.\u001B[39mformat(duplicates))\n\u001B[1;32m    252\u001B[0m data \u001B[38;5;241m=\u001B[39m {(ds[\u001B[38;5;124m\"\u001B[39m\u001B[38;5;124mdatabase\u001B[39m\u001B[38;5;124m\"\u001B[39m], ds[\u001B[38;5;124m\"\u001B[39m\u001B[38;5;124mcode\u001B[39m\u001B[38;5;124m\"\u001B[39m]): ds \u001B[38;5;28;01mfor\u001B[39;00m ds \u001B[38;5;129;01min\u001B[39;00m data}\n\u001B[1;32m    254\u001B[0m \u001B[38;5;28;01mif\u001B[39;00m \u001B[38;5;28mself\u001B[39m\u001B[38;5;241m.\u001B[39mdb_name \u001B[38;5;129;01min\u001B[39;00m databases:\n\u001B[1;32m    255\u001B[0m     \u001B[38;5;66;03m# TODO: Raise error if unlinked exchanges?\u001B[39;00m\n",
      "\u001B[0;31mNonuniqueCode\u001B[0m: The following activities have non-unique codes: ['electricity production, wind, 5.3MW turbine, onshore', 'electricity production, wind, 5.3MW turbine, onshore', 'electricity production, wind, 5.3MW turbine, onshore', 'electricity production, wind, 5.3MW turbine, onshore', 'electricity production, wind, 5.3MW turbine, onshore', 'electricity production, wind, 5.3MW turbine, onshore', 'electricity production, wind, 5.3MW turbine, onshore', 'electricity production, wind, 5.3MW turbine, onshore', 'electricity production, wind, 5.3MW turbine, onshore', 'electricity production, wind, 5.3MW turbine, onshore', 'electricity production, wind, 5.3MW turbine, onshore', 'electricity production, wind, 5.3MW turbine, onshore', 'electricity production, wind, 5.3MW turbine, onshore', 'electricity production, wind, 19.2MW turbine, offshore', 'electricity production, wind, 19.2MW turbine, offshore', 'electricity production, wind, 19.2MW turbine, offshore', 'electricity production, wind, 19.2MW turbine, offshore', 'electricity production, wind, 19.2MW turbine, offshore', 'electricity production, wind, 19.2MW turbine, offshore', 'electricity production, wind, 19.2MW turbine, offshore', 'electricity production, wind, 19.2MW turbine, offshore', 'electricity production, wind, 19.2MW turbine, offshore', 'electricity production, wind, 19.2MW turbine, offshore', 'electricity production, wind, 19.2MW turbine, offshore', 'electricity production, wind, 19.2MW turbine, offshore', 'electricity production, wind, 19.2MW turbine, offshore']"
     ]
    }
   ],
   "execution_count": 5
  },
  {
   "metadata": {},
   "cell_type": "code",
   "outputs": [],
   "execution_count": null,
   "source": "",
   "id": "5dabb5b07881236"
  }
 ],
 "metadata": {
  "kernelspec": {
   "display_name": "Python 3",
   "language": "python",
   "name": "python3"
  },
  "language_info": {
   "codemirror_mode": {
    "name": "ipython",
    "version": 2
   },
   "file_extension": ".py",
   "mimetype": "text/x-python",
   "name": "python",
   "nbconvert_exporter": "python",
   "pygments_lexer": "ipython2",
   "version": "2.7.6"
  }
 },
 "nbformat": 4,
 "nbformat_minor": 5
}
