{
 "cells": [
  {
   "cell_type": "code",
   "execution_count": 1,
   "id": "initial_id",
   "metadata": {
    "ExecuteTime": {
     "end_time": "2025-01-12T18:12:39.474626Z",
     "start_time": "2025-01-12T18:12:37.394504Z"
    }
   },
   "outputs": [],
   "source": [
    "from premise import *\n",
    "import bw2data"
   ]
  },
  {
   "cell_type": "code",
   "execution_count": 2,
   "id": "be419e113433336f",
   "metadata": {
    "ExecuteTime": {
     "end_time": "2025-01-12T18:12:39.758864Z",
     "start_time": "2025-01-12T18:12:39.480361Z"
    }
   },
   "outputs": [],
   "source": [
    "bw2data.projects.set_current(\"ecoinvent-3.10-cutoff\")"
   ]
  },
  {
   "cell_type": "code",
   "execution_count": 3,
   "id": "39ba05d4593d0d27",
   "metadata": {
    "ExecuteTime": {
     "end_time": "2025-01-12T18:12:45.071606Z",
     "start_time": "2025-01-12T18:12:39.877004Z"
    }
   },
   "outputs": [
    {
     "name": "stdout",
     "output_type": "stream",
     "text": [
      "premise v.(2, 1, 8)\n",
      "+------------------------------------------------------------------+\n",
      "| Warning                                                          |\n",
      "+------------------------------------------------------------------+\n",
      "| Because some of the scenarios can yield LCI databases            |\n",
      "| containing net negative emission technologies (NET),             |\n",
      "| it is advised to account for biogenic CO2 flows when calculating |\n",
      "| Global Warming potential indicators.                             |\n",
      "| `premise_gwp` provides characterization factors for such flows.  |\n",
      "| It also provides factors for hydrogen emissions to air.          |\n",
      "|                                                                  |\n",
      "| Within your bw2 project:                                         |\n",
      "| from premise_gwp import add_premise_gwp                          |\n",
      "| add_premise_gwp()                                                |\n",
      "+------------------------------------------------------------------+\n",
      "+--------------------------------+----------------------------------+\n",
      "| Utils functions                | Description                      |\n",
      "+--------------------------------+----------------------------------+\n",
      "| clear_cache()                  | Clears the cache folder. Useful  |\n",
      "|                                | when updating `premise`or        |\n",
      "|                                | encountering issues with         |\n",
      "|                                | inventories.                     |\n",
      "+--------------------------------+----------------------------------+\n",
      "| get_regions_definition(model)  | Retrieves the list of countries  |\n",
      "|                                | for each region of the model.    |\n",
      "+--------------------------------+----------------------------------+\n",
      "| ndb.NewDatabase(...)           | Generates a summary of the most  |\n",
      "| ndb.generate_scenario_report() | important scenarios' variables.  |\n",
      "+--------------------------------+----------------------------------+\n",
      "Keep uncertainty data?\n",
      "NewDatabase(..., keep_source_db_uncertainty=True), keep_imports_uncertainty=True)\n",
      "\n",
      "Hide these messages?\n",
      "NewDatabase(..., quiet=True)\n",
      "- Extracting source database\n",
      "- Extracting inventories\n",
      "- Fetching IAM data\n",
      "Done!\n"
     ]
    }
   ],
   "source": [
    "ndb = NewDatabase(\n",
    "    scenarios=[\n",
    "        {\"model\":\"remind\", \"pathway\":\"SSP2-PkBudg1150\", \"year\":2050},\n",
    "        #{\"model\":\"image\", \"pathway\":\"SSP2-RCP26\", \"year\":2050},\n",
    "        #{\"model\":\"image\", \"pathway\":\"SSP2-Base\", \"year\":2035},\n",
    "        #{\"model\":\"image\", \"pathway\":\"SSP2-Base\", \"year\":2050},\n",
    "        #{\"model\":\"image\", \"pathway\":\"SSP2-Base\", \"year\":2030},\n",
    "    ],\n",
    "    source_db=\"ecoinvent-3.10-cutoff\", # <-- name of the database in the BW2 project. Must be a string.\n",
    "    source_version=\"3.10\", # <-- version of ecoinvent. Can be \"3.5\", \"3.6\", \"3.7\" or \"3.8\". Must be a string.\n",
    "    key=\"tUePmX_S5B8ieZkkM7WUU2CnO8SmShwmAeWK9x2rTFo=\",\n",
    "    biosphere_name=\"ecoinvent-3.10-biosphere\",\n",
    "    keep_imports_uncertainty=True\n",
    ")"
   ]
  },
  {
   "cell_type": "code",
   "execution_count": 4,
   "id": "c437afba0c999505",
   "metadata": {
    "ExecuteTime": {
     "end_time": "2025-01-12T18:13:57.880320Z",
     "start_time": "2025-01-12T18:12:45.088145Z"
    }
   },
   "outputs": [
    {
     "name": "stderr",
     "output_type": "stream",
     "text": [
      "Processing scenarios for 1 sectors:   0%|       | 0/1 [00:35<?, ?it/s]"
     ]
    },
    {
     "name": "stdout",
     "output_type": "stream",
     "text": [
      "+--------------+------------+-----------------------+---------------------+\n",
      "| Turbine type | Power (kW) |       Component       |    Scaling factor   |\n",
      "+--------------+------------+-----------------------+---------------------+\n",
      "|   offshore   |    1000    |       foundation      | 0.04209721772889033 |\n",
      "|   offshore   |    1000    |         tower         |  0.4255778633310964 |\n",
      "|   offshore   |    1000    |        platform       |         0.0         |\n",
      "|   offshore   |    1000    |     grid connector    |  2.558398220244716  |\n",
      "|   offshore   |    1000    |        nacelle        | 0.10786887180142117 |\n",
      "|   offshore   |    1000    |         rotor         | 0.17900358277563716 |\n",
      "|   offshore   |    1000    |         other         |         0.0         |\n",
      "|   offshore   |    1000    | transformer + cabinet |         0.0         |\n",
      "|   offshore   |    2000    |       foundation      | 0.09576108055645423 |\n",
      "|   offshore   |    2000    |         tower         |  0.7550646611533551 |\n",
      "|   offshore   |    2000    |        platform       |         0.0         |\n",
      "|   offshore   |    2000    |     grid connector    |  2.558398220244716  |\n",
      "|   offshore   |    2000    |        nacelle        |  0.4534071173099103 |\n",
      "|   offshore   |    2000    |         rotor         |  0.5589129993916041 |\n",
      "|   offshore   |    2000    |         other         |         0.0         |\n",
      "|   offshore   |    2000    | transformer + cabinet |         0.0         |\n",
      "|   offshore   |    3000    |       foundation      | 0.14942494338401813 |\n",
      "|   offshore   |    3000    |         tower         |  1.084551458975614  |\n",
      "|   offshore   |    3000    |        platform       |         0.0         |\n",
      "|   offshore   |    3000    |     grid connector    |  2.558398220244716  |\n",
      "|   offshore   |    3000    |        nacelle        |  0.7898693113416283 |\n",
      "|   offshore   |    3000    |         rotor         |  0.9388224160075711 |\n",
      "|   offshore   |    3000    |         other         |         0.0         |\n",
      "|   offshore   |    3000    | transformer + cabinet |         0.0         |\n",
      "|   offshore   |    4000    |       foundation      | 0.20308880621158207 |\n",
      "|   offshore   |    4000    |         tower         |  1.4140382567978727 |\n",
      "|   offshore   |    4000    |        platform       |         0.0         |\n",
      "|   offshore   |    4000    |     grid connector    |  2.558398220244716  |\n",
      "|   offshore   |    4000    |        nacelle        |  1.117255453896576  |\n",
      "|   offshore   |    4000    |         rotor         |  1.3187318326235382 |\n",
      "|   offshore   |    4000    |         other         |         0.0         |\n",
      "|   offshore   |    4000    | transformer + cabinet |         0.0         |\n",
      "|   offshore   |    5000    |       foundation      | 0.25675266903914595 |\n",
      "|   offshore   |    5000    |         tower         |  1.7435250546201315 |\n",
      "|   offshore   |    5000    |        platform       |         0.0         |\n",
      "|   offshore   |    5000    |     grid connector    |  2.558398220244716  |\n",
      "|   offshore   |    5000    |        nacelle        |  1.4355655449747526 |\n",
      "|   offshore   |    5000    |         rotor         |  1.698641249239505  |\n",
      "|   offshore   |    5000    |         other         |         0.0         |\n",
      "|   offshore   |    5000    | transformer + cabinet |         0.0         |\n",
      "|   offshore   |    6000    |       foundation      | 0.31041653186670987 |\n",
      "|   offshore   |    6000    |         tower         |   2.07301185244239  |\n",
      "|   offshore   |    6000    |        platform       |         0.0         |\n",
      "|   offshore   |    6000    |     grid connector    |  2.558398220244716  |\n",
      "|   offshore   |    6000    |        nacelle        |  1.7447995845761584 |\n",
      "|   offshore   |    6000    |         rotor         |  2.078550665855472  |\n",
      "|   offshore   |    6000    |         other         |         0.0         |\n",
      "|   offshore   |    6000    | transformer + cabinet |         0.0         |\n",
      "|   offshore   |    7000    |       foundation      |  0.3640803946942737 |\n",
      "|   offshore   |    7000    |         tower         |  2.402498650264649  |\n",
      "|   offshore   |    7000    |        platform       |         0.0         |\n",
      "|   offshore   |    7000    |     grid connector    |  2.558398220244716  |\n",
      "|   offshore   |    7000    |        nacelle        |  2.044957572700793  |\n",
      "|   offshore   |    7000    |         rotor         |  2.4584600824714387 |\n",
      "|   offshore   |    7000    |         other         |         0.0         |\n",
      "|   offshore   |    7000    | transformer + cabinet |         0.0         |\n",
      "|   offshore   |    8000    |       foundation      |  0.4177442575218376 |\n",
      "|   offshore   |    8000    |         tower         |  2.731985448086908  |\n",
      "|   offshore   |    8000    |        platform       |         0.0         |\n",
      "|   offshore   |    8000    |     grid connector    |  2.558398220244716  |\n",
      "|   offshore   |    8000    |        nacelle        |  2.3360395093486575 |\n",
      "|   offshore   |    8000    |         rotor         |  2.838369499087406  |\n",
      "|   offshore   |    8000    |         other         |         0.0         |\n",
      "|   offshore   |    8000    | transformer + cabinet |         0.0         |\n",
      "|   offshore   |    9000    |       foundation      |  0.4714081203494015 |\n",
      "|   offshore   |    9000    |         tower         |  3.061472245909166  |\n",
      "|   offshore   |    9000    |        platform       |         0.0         |\n",
      "|   offshore   |    9000    |     grid connector    |  2.558398220244716  |\n",
      "|   offshore   |    9000    |        nacelle        |  2.618045394519751  |\n",
      "|   offshore   |    9000    |         rotor         |  3.2182789157033738 |\n",
      "|   offshore   |    9000    |         other         |         0.0         |\n",
      "|   offshore   |    9000    | transformer + cabinet |         0.0         |\n",
      "|   offshore   |   10000    |       foundation      |  0.5250719831769655 |\n",
      "|   offshore   |   10000    |         tower         |  3.390959043731425  |\n",
      "|   offshore   |   10000    |        platform       |         0.0         |\n",
      "|   offshore   |   10000    |     grid connector    |  2.558398220244716  |\n",
      "|   offshore   |   10000    |        nacelle        |  2.8909752282140735 |\n",
      "|   offshore   |   10000    |         rotor         |  3.5981883323193404 |\n",
      "|   offshore   |   10000    |         other         |         0.0         |\n",
      "|   offshore   |   10000    | transformer + cabinet |         0.0         |\n",
      "|   offshore   |   11000    |       foundation      |  0.5787358460045293 |\n",
      "|   offshore   |   11000    |         tower         |  3.7204458415536834 |\n",
      "|   offshore   |   11000    |        platform       |         0.0         |\n",
      "|   offshore   |   11000    |     grid connector    |  2.558398220244716  |\n",
      "|   offshore   |   11000    |        nacelle        |  3.154829010431625  |\n",
      "|   offshore   |   11000    |         rotor         |  3.978097748935307  |\n",
      "|   offshore   |   11000    |         other         |         0.0         |\n",
      "|   offshore   |   11000    | transformer + cabinet |         0.0         |\n",
      "|   offshore   |   12000    |       foundation      |  0.6323997088320932 |\n",
      "|   offshore   |   12000    |         tower         |  4.0499326393759425 |\n",
      "|   offshore   |   12000    |        platform       |         0.0         |\n",
      "|   offshore   |   12000    |     grid connector    |  2.558398220244716  |\n",
      "|   offshore   |   12000    |        nacelle        |  3.409606741172406  |\n",
      "|   offshore   |   12000    |         rotor         |  4.358007165551275  |\n",
      "|   offshore   |   12000    |         other         |         0.0         |\n",
      "|   offshore   |   12000    | transformer + cabinet |         0.0         |\n",
      "|   offshore   |   13000    |       foundation      |  0.686063571659657  |\n",
      "|   offshore   |   13000    |         tower         |  4.379419437198202  |\n",
      "|   offshore   |   13000    |        platform       |         0.0         |\n",
      "|   offshore   |   13000    |     grid connector    |  2.558398220244716  |\n",
      "|   offshore   |   13000    |        nacelle        |  3.655308420436416  |\n",
      "|   offshore   |   13000    |         rotor         |  4.737916582167241  |\n",
      "|   offshore   |   13000    |         other         |         0.0         |\n",
      "|   offshore   |   13000    | transformer + cabinet |         0.0         |\n",
      "|   offshore   |   14000    |       foundation      |  0.739727434487221  |\n",
      "|   offshore   |   14000    |         tower         |   4.70890623502046  |\n",
      "|   offshore   |   14000    |        platform       |         0.0         |\n",
      "|   offshore   |   14000    |     grid connector    |  2.558398220244716  |\n",
      "|   offshore   |   14000    |        nacelle        |  3.8919340482236553 |\n",
      "|   offshore   |   14000    |         rotor         |  5.117825998783207  |\n",
      "|   offshore   |   14000    |         other         |         0.0         |\n",
      "|   offshore   |   14000    | transformer + cabinet |         0.0         |\n",
      "|   offshore   |   15000    |       foundation      |  0.793391297314785  |\n",
      "|   offshore   |   15000    |         tower         |  5.038393032842719  |\n",
      "|   offshore   |   15000    |        platform       |         0.0         |\n",
      "|   offshore   |   15000    |     grid connector    |  2.558398220244716  |\n",
      "|   offshore   |   15000    |        nacelle        |  4.119483624534124  |\n",
      "|   offshore   |   15000    |         rotor         |  5.497735415399175  |\n",
      "|   offshore   |   15000    |         other         |         0.0         |\n",
      "|   offshore   |   15000    | transformer + cabinet |         0.0         |\n",
      "|   offshore   |   16000    |       foundation      |  0.8470551601423489 |\n",
      "|   offshore   |   16000    |         tower         |  5.367879830664978  |\n",
      "|   offshore   |   16000    |        platform       |         0.0         |\n",
      "|   offshore   |   16000    |     grid connector    |  2.558398220244716  |\n",
      "|   offshore   |   16000    |        nacelle        |  4.3379571493678215 |\n",
      "|   offshore   |   16000    |         rotor         |  5.877644832015142  |\n",
      "|   offshore   |   16000    |         other         |         0.0         |\n",
      "|   offshore   |   16000    | transformer + cabinet |         0.0         |\n",
      "|   offshore   |   17000    |       foundation      |  0.9007190229699127 |\n",
      "|   offshore   |   17000    |         tower         |  5.697366628487237  |\n",
      "|   offshore   |   17000    |        platform       |         0.0         |\n",
      "|   offshore   |   17000    |     grid connector    |  2.558398220244716  |\n",
      "|   offshore   |   17000    |        nacelle        |  4.547354622724748  |\n",
      "|   offshore   |   17000    |         rotor         |  6.257554248631109  |\n",
      "|   offshore   |   17000    |         other         |         0.0         |\n",
      "|   offshore   |   17000    | transformer + cabinet |         0.0         |\n",
      "|   offshore   |   18000    |       foundation      |  0.9543828857974768 |\n",
      "|   offshore   |   18000    |         tower         |  6.026853426309495  |\n",
      "|   offshore   |   18000    |        platform       |         0.0         |\n",
      "|   offshore   |   18000    |     grid connector    |  2.558398220244716  |\n",
      "|   offshore   |   18000    |        nacelle        |  4.747676044604904  |\n",
      "|   offshore   |   18000    |         rotor         |  6.637463665247076  |\n",
      "|   offshore   |   18000    |         other         |         0.0         |\n",
      "|   offshore   |   18000    | transformer + cabinet |         0.0         |\n",
      "|   offshore   |   19000    |       foundation      |  1.0080467486250406 |\n",
      "|   offshore   |   19000    |         tower         |  6.356340224131755  |\n",
      "|   offshore   |   19000    |        platform       |         0.0         |\n",
      "|   offshore   |   19000    |     grid connector    |  2.558398220244716  |\n",
      "|   offshore   |   19000    |        nacelle        |  4.938921415008289  |\n",
      "|   offshore   |   19000    |         rotor         |  7.017373081863043  |\n",
      "|   offshore   |   19000    |         other         |         0.0         |\n",
      "|   offshore   |   19000    | transformer + cabinet |         0.0         |\n",
      "|   offshore   |   20000    |       foundation      |  1.0617106114526045 |\n",
      "|   offshore   |   20000    |         tower         |  6.6858270219540135 |\n",
      "|   offshore   |   20000    |        platform       |         0.0         |\n",
      "|   offshore   |   20000    |     grid connector    |  2.558398220244716  |\n",
      "|   offshore   |   20000    |        nacelle        |  5.121090733934904  |\n",
      "|   offshore   |   20000    |         rotor         |  7.397282498479011  |\n",
      "|   offshore   |   20000    |         other         |         0.0         |\n",
      "|   offshore   |   20000    | transformer + cabinet |         0.0         |\n",
      "|   offshore   |   21000    |       foundation      |  1.1153744742801683 |\n",
      "|   offshore   |   21000    |         tower         |  7.015313819776272  |\n",
      "|   offshore   |   21000    |        platform       |         0.0         |\n",
      "|   offshore   |   21000    |     grid connector    |  2.558398220244716  |\n",
      "|   offshore   |   21000    |        nacelle        |  5.294184001384745  |\n",
      "|   offshore   |   21000    |         rotor         |  7.777191915094978  |\n",
      "|   offshore   |   21000    |         other         |         0.0         |\n",
      "|   offshore   |   21000    | transformer + cabinet |         0.0         |\n",
      "|   offshore   |   22000    |       foundation      |  1.1690383371077322 |\n",
      "|   offshore   |   22000    |         tower         |  7.344800617598531  |\n",
      "|   offshore   |   22000    |        platform       |         0.0         |\n",
      "|   offshore   |   22000    |     grid connector    |  2.558398220244716  |\n",
      "|   offshore   |   22000    |        nacelle        |   5.45820121735782  |\n",
      "|   offshore   |   22000    |         rotor         |  8.111944838775097  |\n",
      "|   offshore   |   22000    |         other         |         0.0         |\n",
      "|   offshore   |   22000    | transformer + cabinet |         0.0         |\n",
      "+--------------+------------+-----------------------+---------------------+\n",
      "\n"
     ]
    },
    {
     "name": "stderr",
     "output_type": "stream",
     "text": [
      "\n"
     ]
    },
    {
     "ename": "AssertionError",
     "evalue": "",
     "output_type": "error",
     "traceback": [
      "\u001b[0;31m---------------------------------------------------------------------------\u001b[0m",
      "\u001b[0;31mAssertionError\u001b[0m                            Traceback (most recent call last)",
      "Cell \u001b[0;32mIn[4], line 1\u001b[0m\n\u001b[0;32m----> 1\u001b[0m \u001b[43mndb\u001b[49m\u001b[38;5;241;43m.\u001b[39;49m\u001b[43mupdate\u001b[49m\u001b[43m(\u001b[49m\n\u001b[1;32m      2\u001b[0m \u001b[43m    \u001b[49m\u001b[43m[\u001b[49m\n\u001b[1;32m      3\u001b[0m \u001b[43m        \u001b[49m\u001b[38;5;124;43m\"\u001b[39;49m\u001b[38;5;124;43mrenewables\u001b[39;49m\u001b[38;5;124;43m\"\u001b[39;49m\u001b[43m,\u001b[49m\n\u001b[1;32m      4\u001b[0m \u001b[43m        \u001b[49m\u001b[38;5;66;43;03m#\"electricity\"\u001b[39;49;00m\n\u001b[1;32m      5\u001b[0m \u001b[43m    \u001b[49m\u001b[43m]\u001b[49m\n\u001b[1;32m      6\u001b[0m \u001b[43m)\u001b[49m\n",
      "File \u001b[0;32m~/GitHub/premise-johanna/premise/new_database.py:973\u001b[0m, in \u001b[0;36mNewDatabase.update\u001b[0;34m(self, sectors)\u001b[0m\n\u001b[1;32m    971\u001b[0m update_func \u001b[38;5;241m=\u001b[39m sector_update_methods[sector][\u001b[38;5;124m\"\u001b[39m\u001b[38;5;124mfunc\u001b[39m\u001b[38;5;124m\"\u001b[39m]\n\u001b[1;32m    972\u001b[0m fixed_args \u001b[38;5;241m=\u001b[39m sector_update_methods[sector][\u001b[38;5;124m\"\u001b[39m\u001b[38;5;124margs\u001b[39m\u001b[38;5;124m\"\u001b[39m]\n\u001b[0;32m--> 973\u001b[0m scenario \u001b[38;5;241m=\u001b[39m \u001b[43mupdate_func\u001b[49m\u001b[43m(\u001b[49m\u001b[43mscenario\u001b[49m\u001b[43m,\u001b[49m\u001b[43m \u001b[49m\u001b[38;5;241;43m*\u001b[39;49m\u001b[43mfixed_args\u001b[49m\u001b[43m)\u001b[49m\n\u001b[1;32m    975\u001b[0m \u001b[38;5;28;01mif\u001b[39;00m \u001b[38;5;124m\"\u001b[39m\u001b[38;5;124mapplied functions\u001b[39m\u001b[38;5;124m\"\u001b[39m \u001b[38;5;129;01mnot\u001b[39;00m \u001b[38;5;129;01min\u001b[39;00m scenario:\n\u001b[1;32m    976\u001b[0m     scenario[\u001b[38;5;124m\"\u001b[39m\u001b[38;5;124mapplied functions\u001b[39m\u001b[38;5;124m\"\u001b[39m] \u001b[38;5;241m=\u001b[39m []\n",
      "File \u001b[0;32m~/GitHub/premise-johanna/premise/renewables.py:69\u001b[0m, in \u001b[0;36m_update_renewables\u001b[0;34m(scenario, version, system_model, use_absolute_efficiency)\u001b[0m\n\u001b[1;32m     50\u001b[0m \u001b[38;5;28;01mdef\u001b[39;00m \u001b[38;5;21m_update_renewables\u001b[39m(\n\u001b[1;32m     51\u001b[0m     scenario,\n\u001b[1;32m     52\u001b[0m     version,\n\u001b[1;32m     53\u001b[0m     system_model,\n\u001b[1;32m     54\u001b[0m     use_absolute_efficiency,\n\u001b[1;32m     55\u001b[0m ):\n\u001b[1;32m     56\u001b[0m     windturbines \u001b[38;5;241m=\u001b[39m WindTurbines(\n\u001b[1;32m     57\u001b[0m         database\u001b[38;5;241m=\u001b[39mscenario[\u001b[38;5;124m\"\u001b[39m\u001b[38;5;124mdatabase\u001b[39m\u001b[38;5;124m\"\u001b[39m],\n\u001b[1;32m     58\u001b[0m         iam_data\u001b[38;5;241m=\u001b[39mscenario[\u001b[38;5;124m\"\u001b[39m\u001b[38;5;124miam data\u001b[39m\u001b[38;5;124m\"\u001b[39m],\n\u001b[0;32m   (...)\u001b[0m\n\u001b[1;32m     66\u001b[0m         index\u001b[38;5;241m=\u001b[39mscenario\u001b[38;5;241m.\u001b[39mget(\u001b[38;5;124m\"\u001b[39m\u001b[38;5;124mindex\u001b[39m\u001b[38;5;124m\"\u001b[39m),\n\u001b[1;32m     67\u001b[0m     )\n\u001b[0;32m---> 69\u001b[0m     \u001b[43mwindturbines\u001b[49m\u001b[38;5;241;43m.\u001b[39;49m\u001b[43mcreate_wind_turbine_datasets\u001b[49m\u001b[43m(\u001b[49m\u001b[43mturbine_type\u001b[49m\u001b[38;5;241;43m=\u001b[39;49m\u001b[38;5;124;43m\"\u001b[39;49m\u001b[38;5;124;43moffshore\u001b[39;49m\u001b[38;5;124;43m\"\u001b[39;49m\u001b[43m)\u001b[49m\n\u001b[1;32m     70\u001b[0m     windturbines\u001b[38;5;241m.\u001b[39mcreate_wind_turbine_datasets(turbine_type\u001b[38;5;241m=\u001b[39m\u001b[38;5;124m\"\u001b[39m\u001b[38;5;124monshore\u001b[39m\u001b[38;5;124m\"\u001b[39m)\n\u001b[1;32m     72\u001b[0m     scenario[\u001b[38;5;124m\"\u001b[39m\u001b[38;5;124mdatabase\u001b[39m\u001b[38;5;124m\"\u001b[39m] \u001b[38;5;241m=\u001b[39m windturbines\u001b[38;5;241m.\u001b[39mdatabase\n",
      "File \u001b[0;32m~/GitHub/premise-johanna/premise/renewables.py:610\u001b[0m, in \u001b[0;36mWindTurbines.create_wind_turbine_datasets\u001b[0;34m(self, turbine_type)\u001b[0m\n\u001b[1;32m    604\u001b[0m fleet_average_power \u001b[38;5;241m=\u001b[39m np\u001b[38;5;241m.\u001b[39mclip(\n\u001b[1;32m    605\u001b[0m     fleet_average_power,\n\u001b[1;32m    606\u001b[0m     \u001b[38;5;241m0\u001b[39m,\n\u001b[1;32m    607\u001b[0m     max_power\n\u001b[1;32m    608\u001b[0m )\n\u001b[1;32m    609\u001b[0m \u001b[38;5;66;03m# create a capacity distribution base don the fleet average capacity\u001b[39;00m\n\u001b[0;32m--> 610\u001b[0m fleet_distribution \u001b[38;5;241m=\u001b[39m \u001b[43mget_fleet_distribution\u001b[49m\u001b[43m(\u001b[49m\n\u001b[1;32m    611\u001b[0m \u001b[43m    \u001b[49m\u001b[43mfleet_average_power\u001b[49m\u001b[43m,\u001b[49m\u001b[43m \u001b[49m\u001b[43mturbine_type\u001b[49m\n\u001b[1;32m    612\u001b[0m \u001b[43m\u001b[49m\u001b[43m)\u001b[49m\n\u001b[1;32m    614\u001b[0m \u001b[38;5;66;03m# create, for each country, a fleet average dataset for the wind turbines\u001b[39;00m\n\u001b[1;32m    615\u001b[0m \u001b[38;5;66;03m# considering the fleet capacity distribution\u001b[39;00m\n\u001b[1;32m    617\u001b[0m wind_power_gen \u001b[38;5;241m=\u001b[39m get_wind_power_generation()\n",
      "File \u001b[0;32m~/GitHub/premise-johanna/premise/renewables.py:279\u001b[0m, in \u001b[0;36mget_fleet_distribution\u001b[0;34m(power, turbine_type)\u001b[0m\n\u001b[1;32m    276\u001b[0m optimized_weights \u001b[38;5;241m=\u001b[39m result\u001b[38;5;241m.\u001b[39mx \u001b[38;5;241m/\u001b[39m result\u001b[38;5;241m.\u001b[39mx\u001b[38;5;241m.\u001b[39msum()\n\u001b[1;32m    278\u001b[0m \u001b[38;5;66;03m# Validate the weighted average\u001b[39;00m\n\u001b[0;32m--> 279\u001b[0m \u001b[38;5;28;01massert\u001b[39;00m np\u001b[38;5;241m.\u001b[39misclose(np\u001b[38;5;241m.\u001b[39msum(optimized_weights \u001b[38;5;241m*\u001b[39m bin_centers), power, rtol\u001b[38;5;241m=\u001b[39m\u001b[38;5;241m1e-3\u001b[39m)\n\u001b[1;32m    281\u001b[0m \u001b[38;5;66;03m# Return the final distribution as a dictionary\u001b[39;00m\n\u001b[1;32m    282\u001b[0m \u001b[38;5;28;01mreturn\u001b[39;00m {\u001b[38;5;28mint\u001b[39m(center): optimized_weights[i] \u001b[38;5;28;01mfor\u001b[39;00m i, center \u001b[38;5;129;01min\u001b[39;00m \u001b[38;5;28menumerate\u001b[39m(bin_centers)}\n",
      "\u001b[0;31mAssertionError\u001b[0m: "
     ]
    }
   ],
   "source": [
    "ndb.update(\n",
    "    [\n",
    "        \"renewables\",\n",
    "        #\"electricity\"\n",
    "    ]\n",
    ")"
   ]
  },
  {
   "cell_type": "code",
   "execution_count": 5,
   "id": "52ad28a8b8965ca3",
   "metadata": {
    "ExecuteTime": {
     "end_time": "2025-01-12T17:52:59.863571Z",
     "start_time": "2025-01-12T17:47:09.892949Z"
    }
   },
   "outputs": [
    {
     "name": "stdout",
     "output_type": "stream",
     "text": [
      "Write new database(s) to Brightway.\n",
      "Running all checks...\n",
      "Minor anomalies found: check the change report.\n",
      "Warning: No valid output stream.\n",
      "Title: Writing activities to SQLite3 database:\n",
      "  Started: 01/12/2025 18:48:58\n",
      "  Finished: 01/12/2025 18:49:19\n",
      "  Total time elapsed: 00:00:20\n",
      "  CPU %: 91.70\n",
      "  Memory %: 14.88\n",
      "Created database: wind turbine test 22\n",
      "Generate scenario report.\n"
     ]
    },
    {
     "ename": "KeyError",
     "evalue": "'region'",
     "output_type": "error",
     "traceback": [
      "\u001b[0;31m---------------------------------------------------------------------------\u001b[0m",
      "\u001b[0;31mKeyError\u001b[0m                                  Traceback (most recent call last)",
      "\u001b[0;32m/var/folders/cn/pys1j9rn0y7djkhv3hfdtrs00000gn/T/ipykernel_67751/3707327542.py\u001b[0m in \u001b[0;36m?\u001b[0;34m()\u001b[0m\n\u001b[0;32m----> 1\u001b[0;31m \u001b[0mndb\u001b[0m\u001b[0;34m.\u001b[0m\u001b[0mwrite_db_to_brightway\u001b[0m\u001b[0;34m(\u001b[0m\u001b[0;34m\"wind turbine test 22\"\u001b[0m\u001b[0;34m)\u001b[0m\u001b[0;34m\u001b[0m\u001b[0;34m\u001b[0m\u001b[0m\n\u001b[0m",
      "\u001b[0;32m~/GitHub/premise-johanna/premise/new_database.py\u001b[0m in \u001b[0;36m?\u001b[0;34m(self, name)\u001b[0m\n\u001b[1;32m   1120\u001b[0m             \u001b[0;32mif\u001b[0m \u001b[0;34m\"applied functions\"\u001b[0m \u001b[0;32min\u001b[0m \u001b[0mscenario\u001b[0m\u001b[0;34m:\u001b[0m\u001b[0;34m\u001b[0m\u001b[0;34m\u001b[0m\u001b[0m\n\u001b[1;32m   1121\u001b[0m                 \u001b[0;32mdel\u001b[0m \u001b[0mscenario\u001b[0m\u001b[0;34m[\u001b[0m\u001b[0;34m\"applied functions\"\u001b[0m\u001b[0;34m]\u001b[0m\u001b[0;34m\u001b[0m\u001b[0;34m\u001b[0m\u001b[0m\n\u001b[1;32m   1122\u001b[0m \u001b[0;34m\u001b[0m\u001b[0m\n\u001b[1;32m   1123\u001b[0m         \u001b[0;31m# generate scenario report\u001b[0m\u001b[0;34m\u001b[0m\u001b[0;34m\u001b[0m\u001b[0m\n\u001b[0;32m-> 1124\u001b[0;31m         \u001b[0mself\u001b[0m\u001b[0;34m.\u001b[0m\u001b[0mgenerate_scenario_report\u001b[0m\u001b[0;34m(\u001b[0m\u001b[0;34m)\u001b[0m\u001b[0;34m\u001b[0m\u001b[0;34m\u001b[0m\u001b[0m\n\u001b[0m\u001b[1;32m   1125\u001b[0m         \u001b[0;31m# generate change report from logs\u001b[0m\u001b[0;34m\u001b[0m\u001b[0;34m\u001b[0m\u001b[0m\n\u001b[1;32m   1126\u001b[0m         \u001b[0mself\u001b[0m\u001b[0;34m.\u001b[0m\u001b[0mgenerate_change_report\u001b[0m\u001b[0;34m(\u001b[0m\u001b[0;34m)\u001b[0m\u001b[0;34m\u001b[0m\u001b[0;34m\u001b[0m\u001b[0m\n",
      "\u001b[0;32m~/GitHub/premise-johanna/premise/new_database.py\u001b[0m in \u001b[0;36m?\u001b[0;34m(self, filepath, name)\u001b[0m\n\u001b[1;32m   1368\u001b[0m         \u001b[0mname\u001b[0m \u001b[0;34m=\u001b[0m \u001b[0mPath\u001b[0m\u001b[0;34m(\u001b[0m\u001b[0mname\u001b[0m\u001b[0;34m)\u001b[0m\u001b[0;34m\u001b[0m\u001b[0;34m\u001b[0m\u001b[0m\n\u001b[1;32m   1369\u001b[0m         \u001b[0;32mif\u001b[0m \u001b[0mname\u001b[0m\u001b[0;34m.\u001b[0m\u001b[0msuffix\u001b[0m \u001b[0;34m!=\u001b[0m \u001b[0;34m\".xlsx\"\u001b[0m\u001b[0;34m:\u001b[0m\u001b[0;34m\u001b[0m\u001b[0;34m\u001b[0m\u001b[0m\n\u001b[1;32m   1370\u001b[0m             \u001b[0mname\u001b[0m \u001b[0;34m=\u001b[0m \u001b[0mname\u001b[0m\u001b[0;34m.\u001b[0m\u001b[0mwith_suffix\u001b[0m\u001b[0;34m(\u001b[0m\u001b[0;34m\".xlsx\"\u001b[0m\u001b[0;34m)\u001b[0m\u001b[0;34m\u001b[0m\u001b[0;34m\u001b[0m\u001b[0m\n\u001b[1;32m   1371\u001b[0m \u001b[0;34m\u001b[0m\u001b[0m\n\u001b[0;32m-> 1372\u001b[0;31m         \u001b[0mgenerate_summary_report\u001b[0m\u001b[0;34m(\u001b[0m\u001b[0mself\u001b[0m\u001b[0;34m.\u001b[0m\u001b[0mscenarios\u001b[0m\u001b[0;34m,\u001b[0m \u001b[0mfilepath\u001b[0m \u001b[0;34m/\u001b[0m \u001b[0mname\u001b[0m\u001b[0;34m)\u001b[0m\u001b[0;34m\u001b[0m\u001b[0;34m\u001b[0m\u001b[0m\n\u001b[0m\u001b[1;32m   1373\u001b[0m \u001b[0;34m\u001b[0m\u001b[0m\n\u001b[1;32m   1374\u001b[0m         \u001b[0mprint\u001b[0m\u001b[0;34m(\u001b[0m\u001b[0;34mf\"Report saved under {filepath}.\"\u001b[0m\u001b[0;34m)\u001b[0m\u001b[0;34m\u001b[0m\u001b[0;34m\u001b[0m\u001b[0m\n",
      "\u001b[0;32m~/GitHub/premise-johanna/premise/report.py\u001b[0m in \u001b[0;36m?\u001b[0;34m(scenarios, filename)\u001b[0m\n\u001b[1;32m    580\u001b[0m                         \u001b[0mworksheet\u001b[0m\u001b[0;34m.\u001b[0m\u001b[0mcell\u001b[0m\u001b[0;34m(\u001b[0m\u001b[0mcolumn\u001b[0m\u001b[0;34m=\u001b[0m\u001b[0mcol\u001b[0m\u001b[0;34m,\u001b[0m \u001b[0mrow\u001b[0m\u001b[0;34m=\u001b[0m\u001b[0mrow\u001b[0m\u001b[0;34m,\u001b[0m \u001b[0mvalue\u001b[0m\u001b[0;34m=\u001b[0m\u001b[0mregion\u001b[0m\u001b[0;34m)\u001b[0m\u001b[0;34m\u001b[0m\u001b[0;34m\u001b[0m\u001b[0m\n\u001b[1;32m    581\u001b[0m \u001b[0;34m\u001b[0m\u001b[0m\n\u001b[1;32m    582\u001b[0m                         \u001b[0mrow\u001b[0m \u001b[0;34m+=\u001b[0m \u001b[0;36m3\u001b[0m\u001b[0;34m\u001b[0m\u001b[0;34m\u001b[0m\u001b[0m\n\u001b[1;32m    583\u001b[0m \u001b[0;34m\u001b[0m\u001b[0m\n\u001b[0;32m--> 584\u001b[0;31m                         dataframe = iam_data.sel(\n\u001b[0m\u001b[1;32m    585\u001b[0m                             variables=[\n\u001b[1;32m    586\u001b[0m                                 \u001b[0mv\u001b[0m \u001b[0;32mfor\u001b[0m \u001b[0mv\u001b[0m \u001b[0;32min\u001b[0m \u001b[0mvariables\u001b[0m \u001b[0;32mif\u001b[0m \u001b[0mv\u001b[0m \u001b[0;32min\u001b[0m \u001b[0miam_data\u001b[0m\u001b[0;34m.\u001b[0m\u001b[0mvariables\u001b[0m\u001b[0;34m.\u001b[0m\u001b[0mvalues\u001b[0m\u001b[0;34m\u001b[0m\u001b[0;34m\u001b[0m\u001b[0m\n\u001b[1;32m    587\u001b[0m                             ],\n",
      "\u001b[0;32m~/GitHub/premise-johanna/venv/lib/python3.11/site-packages/xarray/core/dataarray.py\u001b[0m in \u001b[0;36m?\u001b[0;34m(self, indexers, method, tolerance, drop, **indexers_kwargs)\u001b[0m\n\u001b[1;32m   1671\u001b[0m             \u001b[0mx\u001b[0m        \u001b[0;34m(\u001b[0m\u001b[0mpoints\u001b[0m\u001b[0;34m)\u001b[0m \u001b[0mint64\u001b[0m \u001b[0;36m40\u001b[0m\u001b[0mB\u001b[0m \u001b[0;36m0\u001b[0m \u001b[0;36m1\u001b[0m \u001b[0;36m2\u001b[0m \u001b[0;36m3\u001b[0m \u001b[0;36m4\u001b[0m\u001b[0;34m\u001b[0m\u001b[0;34m\u001b[0m\u001b[0m\n\u001b[1;32m   1672\u001b[0m             \u001b[0my\u001b[0m        \u001b[0;34m(\u001b[0m\u001b[0mpoints\u001b[0m\u001b[0;34m)\u001b[0m \u001b[0mint64\u001b[0m \u001b[0;36m40\u001b[0m\u001b[0mB\u001b[0m \u001b[0;36m0\u001b[0m \u001b[0;36m1\u001b[0m \u001b[0;36m2\u001b[0m \u001b[0;36m3\u001b[0m \u001b[0;36m4\u001b[0m\u001b[0;34m\u001b[0m\u001b[0;34m\u001b[0m\u001b[0m\n\u001b[1;32m   1673\u001b[0m         \u001b[0mDimensions\u001b[0m \u001b[0mwithout\u001b[0m \u001b[0mcoordinates\u001b[0m\u001b[0;34m:\u001b[0m \u001b[0mpoints\u001b[0m\u001b[0;34m\u001b[0m\u001b[0;34m\u001b[0m\u001b[0m\n\u001b[1;32m   1674\u001b[0m         \"\"\"\n\u001b[0;32m-> 1675\u001b[0;31m         ds = self._to_temp_dataset().sel(\n\u001b[0m\u001b[1;32m   1676\u001b[0m             \u001b[0mindexers\u001b[0m\u001b[0;34m=\u001b[0m\u001b[0mindexers\u001b[0m\u001b[0;34m,\u001b[0m\u001b[0;34m\u001b[0m\u001b[0;34m\u001b[0m\u001b[0m\n\u001b[1;32m   1677\u001b[0m             \u001b[0mdrop\u001b[0m\u001b[0;34m=\u001b[0m\u001b[0mdrop\u001b[0m\u001b[0;34m,\u001b[0m\u001b[0;34m\u001b[0m\u001b[0;34m\u001b[0m\u001b[0m\n\u001b[1;32m   1678\u001b[0m             \u001b[0mmethod\u001b[0m\u001b[0;34m=\u001b[0m\u001b[0mmethod\u001b[0m\u001b[0;34m,\u001b[0m\u001b[0;34m\u001b[0m\u001b[0;34m\u001b[0m\u001b[0m\n",
      "\u001b[0;32m~/GitHub/premise-johanna/venv/lib/python3.11/site-packages/xarray/core/dataset.py\u001b[0m in \u001b[0;36m?\u001b[0;34m(self, indexers, method, tolerance, drop, **indexers_kwargs)\u001b[0m\n\u001b[1;32m   3233\u001b[0m                     \u001b[0;32mif\u001b[0m \u001b[0mk\u001b[0m \u001b[0;32min\u001b[0m \u001b[0mself\u001b[0m\u001b[0;34m.\u001b[0m\u001b[0m_coord_names\u001b[0m\u001b[0;34m:\u001b[0m\u001b[0;34m\u001b[0m\u001b[0;34m\u001b[0m\u001b[0m\n\u001b[1;32m   3234\u001b[0m                         \u001b[0mquery_results\u001b[0m\u001b[0;34m.\u001b[0m\u001b[0mdrop_coords\u001b[0m\u001b[0;34m.\u001b[0m\u001b[0mappend\u001b[0m\u001b[0;34m(\u001b[0m\u001b[0mk\u001b[0m\u001b[0;34m)\u001b[0m\u001b[0;34m\u001b[0m\u001b[0;34m\u001b[0m\u001b[0m\n\u001b[1;32m   3235\u001b[0m             \u001b[0mquery_results\u001b[0m\u001b[0;34m.\u001b[0m\u001b[0mvariables\u001b[0m \u001b[0;34m=\u001b[0m \u001b[0mno_scalar_variables\u001b[0m\u001b[0;34m\u001b[0m\u001b[0;34m\u001b[0m\u001b[0m\n\u001b[1;32m   3236\u001b[0m \u001b[0;34m\u001b[0m\u001b[0m\n\u001b[0;32m-> 3237\u001b[0;31m         \u001b[0mresult\u001b[0m \u001b[0;34m=\u001b[0m \u001b[0mself\u001b[0m\u001b[0;34m.\u001b[0m\u001b[0misel\u001b[0m\u001b[0;34m(\u001b[0m\u001b[0mindexers\u001b[0m\u001b[0;34m=\u001b[0m\u001b[0mquery_results\u001b[0m\u001b[0;34m.\u001b[0m\u001b[0mdim_indexers\u001b[0m\u001b[0;34m,\u001b[0m \u001b[0mdrop\u001b[0m\u001b[0;34m=\u001b[0m\u001b[0mdrop\u001b[0m\u001b[0;34m)\u001b[0m\u001b[0;34m\u001b[0m\u001b[0;34m\u001b[0m\u001b[0m\n\u001b[0m\u001b[1;32m   3238\u001b[0m         \u001b[0;32mreturn\u001b[0m \u001b[0mresult\u001b[0m\u001b[0;34m.\u001b[0m\u001b[0m_overwrite_indexes\u001b[0m\u001b[0;34m(\u001b[0m\u001b[0;34m*\u001b[0m\u001b[0mquery_results\u001b[0m\u001b[0;34m.\u001b[0m\u001b[0mas_tuple\u001b[0m\u001b[0;34m(\u001b[0m\u001b[0;34m)\u001b[0m\u001b[0;34m[\u001b[0m\u001b[0;36m1\u001b[0m\u001b[0;34m:\u001b[0m\u001b[0;34m]\u001b[0m\u001b[0;34m)\u001b[0m\u001b[0;34m\u001b[0m\u001b[0;34m\u001b[0m\u001b[0m\n",
      "\u001b[0;32m~/GitHub/premise-johanna/venv/lib/python3.11/site-packages/xarray/core/dataset.py\u001b[0m in \u001b[0;36m?\u001b[0;34m(self, indexers, drop, missing_dims, **indexers_kwargs)\u001b[0m\n\u001b[1;32m   3066\u001b[0m \u001b[0;34m\u001b[0m\u001b[0m\n\u001b[1;32m   3067\u001b[0m         \"\"\"\n\u001b[1;32m   3068\u001b[0m         \u001b[0mindexers\u001b[0m \u001b[0;34m=\u001b[0m \u001b[0meither_dict_or_kwargs\u001b[0m\u001b[0;34m(\u001b[0m\u001b[0mindexers\u001b[0m\u001b[0;34m,\u001b[0m \u001b[0mindexers_kwargs\u001b[0m\u001b[0;34m,\u001b[0m \u001b[0;34m\"isel\"\u001b[0m\u001b[0;34m)\u001b[0m\u001b[0;34m\u001b[0m\u001b[0;34m\u001b[0m\u001b[0m\n\u001b[1;32m   3069\u001b[0m         \u001b[0;32mif\u001b[0m \u001b[0many\u001b[0m\u001b[0;34m(\u001b[0m\u001b[0mis_fancy_indexer\u001b[0m\u001b[0;34m(\u001b[0m\u001b[0midx\u001b[0m\u001b[0;34m)\u001b[0m \u001b[0;32mfor\u001b[0m \u001b[0midx\u001b[0m \u001b[0;32min\u001b[0m \u001b[0mindexers\u001b[0m\u001b[0;34m.\u001b[0m\u001b[0mvalues\u001b[0m\u001b[0;34m(\u001b[0m\u001b[0;34m)\u001b[0m\u001b[0;34m)\u001b[0m\u001b[0;34m:\u001b[0m\u001b[0;34m\u001b[0m\u001b[0;34m\u001b[0m\u001b[0m\n\u001b[0;32m-> 3070\u001b[0;31m             \u001b[0;32mreturn\u001b[0m \u001b[0mself\u001b[0m\u001b[0;34m.\u001b[0m\u001b[0m_isel_fancy\u001b[0m\u001b[0;34m(\u001b[0m\u001b[0mindexers\u001b[0m\u001b[0;34m,\u001b[0m \u001b[0mdrop\u001b[0m\u001b[0;34m=\u001b[0m\u001b[0mdrop\u001b[0m\u001b[0;34m,\u001b[0m \u001b[0mmissing_dims\u001b[0m\u001b[0;34m=\u001b[0m\u001b[0mmissing_dims\u001b[0m\u001b[0;34m)\u001b[0m\u001b[0;34m\u001b[0m\u001b[0;34m\u001b[0m\u001b[0m\n\u001b[0m\u001b[1;32m   3071\u001b[0m \u001b[0;34m\u001b[0m\u001b[0m\n\u001b[1;32m   3072\u001b[0m         \u001b[0;31m# Much faster algorithm for when all indexers are ints, slices, one-dimensional\u001b[0m\u001b[0;34m\u001b[0m\u001b[0;34m\u001b[0m\u001b[0m\n\u001b[1;32m   3073\u001b[0m         \u001b[0;31m# lists, or zero or one-dimensional np.ndarray's\u001b[0m\u001b[0;34m\u001b[0m\u001b[0;34m\u001b[0m\u001b[0m\n",
      "\u001b[0;32m~/GitHub/premise-johanna/venv/lib/python3.11/site-packages/xarray/core/dataset.py\u001b[0m in \u001b[0;36m?\u001b[0;34m(self, indexers, drop, missing_dims)\u001b[0m\n\u001b[1;32m   3109\u001b[0m         \u001b[0;34m*\u001b[0m\u001b[0;34m,\u001b[0m\u001b[0;34m\u001b[0m\u001b[0;34m\u001b[0m\u001b[0m\n\u001b[1;32m   3110\u001b[0m         \u001b[0mdrop\u001b[0m\u001b[0;34m:\u001b[0m \u001b[0mbool\u001b[0m\u001b[0;34m,\u001b[0m\u001b[0;34m\u001b[0m\u001b[0;34m\u001b[0m\u001b[0m\n\u001b[1;32m   3111\u001b[0m         \u001b[0mmissing_dims\u001b[0m\u001b[0;34m:\u001b[0m \u001b[0mErrorOptionsWithWarn\u001b[0m \u001b[0;34m=\u001b[0m \u001b[0;34m\"raise\"\u001b[0m\u001b[0;34m,\u001b[0m\u001b[0;34m\u001b[0m\u001b[0;34m\u001b[0m\u001b[0m\n\u001b[1;32m   3112\u001b[0m     ) -> Self:\n\u001b[0;32m-> 3113\u001b[0;31m         \u001b[0mvalid_indexers\u001b[0m \u001b[0;34m=\u001b[0m \u001b[0mdict\u001b[0m\u001b[0;34m(\u001b[0m\u001b[0mself\u001b[0m\u001b[0;34m.\u001b[0m\u001b[0m_validate_indexers\u001b[0m\u001b[0;34m(\u001b[0m\u001b[0mindexers\u001b[0m\u001b[0;34m,\u001b[0m \u001b[0mmissing_dims\u001b[0m\u001b[0;34m)\u001b[0m\u001b[0;34m)\u001b[0m\u001b[0;34m\u001b[0m\u001b[0;34m\u001b[0m\u001b[0m\n\u001b[0m\u001b[1;32m   3114\u001b[0m \u001b[0;34m\u001b[0m\u001b[0m\n\u001b[1;32m   3115\u001b[0m         \u001b[0mvariables\u001b[0m\u001b[0;34m:\u001b[0m \u001b[0mdict\u001b[0m\u001b[0;34m[\u001b[0m\u001b[0mHashable\u001b[0m\u001b[0;34m,\u001b[0m \u001b[0mVariable\u001b[0m\u001b[0;34m]\u001b[0m \u001b[0;34m=\u001b[0m \u001b[0;34m{\u001b[0m\u001b[0;34m}\u001b[0m\u001b[0;34m\u001b[0m\u001b[0;34m\u001b[0m\u001b[0m\n\u001b[1;32m   3116\u001b[0m         \u001b[0mindexes\u001b[0m\u001b[0;34m,\u001b[0m \u001b[0mindex_variables\u001b[0m \u001b[0;34m=\u001b[0m \u001b[0misel_indexes\u001b[0m\u001b[0;34m(\u001b[0m\u001b[0mself\u001b[0m\u001b[0;34m.\u001b[0m\u001b[0mxindexes\u001b[0m\u001b[0;34m,\u001b[0m \u001b[0mvalid_indexers\u001b[0m\u001b[0;34m)\u001b[0m\u001b[0;34m\u001b[0m\u001b[0;34m\u001b[0m\u001b[0m\n",
      "\u001b[0;32m~/GitHub/premise-johanna/venv/lib/python3.11/site-packages/xarray/core/dataset.py\u001b[0m in \u001b[0;36m?\u001b[0;34m(self, indexers, missing_dims)\u001b[0m\n\u001b[1;32m   2874\u001b[0m                 \u001b[0;32mif\u001b[0m \u001b[0;32mnot\u001b[0m \u001b[0mis_duck_array\u001b[0m\u001b[0;34m(\u001b[0m\u001b[0mv\u001b[0m\u001b[0;34m)\u001b[0m\u001b[0;34m:\u001b[0m\u001b[0;34m\u001b[0m\u001b[0;34m\u001b[0m\u001b[0m\n\u001b[1;32m   2875\u001b[0m                     \u001b[0mv\u001b[0m \u001b[0;34m=\u001b[0m \u001b[0mnp\u001b[0m\u001b[0;34m.\u001b[0m\u001b[0masarray\u001b[0m\u001b[0;34m(\u001b[0m\u001b[0mv\u001b[0m\u001b[0;34m)\u001b[0m\u001b[0;34m\u001b[0m\u001b[0;34m\u001b[0m\u001b[0m\n\u001b[1;32m   2876\u001b[0m \u001b[0;34m\u001b[0m\u001b[0m\n\u001b[1;32m   2877\u001b[0m                 \u001b[0;32mif\u001b[0m \u001b[0mv\u001b[0m\u001b[0;34m.\u001b[0m\u001b[0mdtype\u001b[0m\u001b[0;34m.\u001b[0m\u001b[0mkind\u001b[0m \u001b[0;32min\u001b[0m \u001b[0;34m\"US\"\u001b[0m\u001b[0;34m:\u001b[0m\u001b[0;34m\u001b[0m\u001b[0;34m\u001b[0m\u001b[0m\n\u001b[0;32m-> 2878\u001b[0;31m                     \u001b[0mindex\u001b[0m \u001b[0;34m=\u001b[0m \u001b[0mself\u001b[0m\u001b[0;34m.\u001b[0m\u001b[0m_indexes\u001b[0m\u001b[0;34m[\u001b[0m\u001b[0mk\u001b[0m\u001b[0;34m]\u001b[0m\u001b[0;34m.\u001b[0m\u001b[0mto_pandas_index\u001b[0m\u001b[0;34m(\u001b[0m\u001b[0;34m)\u001b[0m\u001b[0;34m\u001b[0m\u001b[0;34m\u001b[0m\u001b[0m\n\u001b[0m\u001b[1;32m   2879\u001b[0m                     \u001b[0;32mif\u001b[0m \u001b[0misinstance\u001b[0m\u001b[0;34m(\u001b[0m\u001b[0mindex\u001b[0m\u001b[0;34m,\u001b[0m \u001b[0mpd\u001b[0m\u001b[0;34m.\u001b[0m\u001b[0mDatetimeIndex\u001b[0m\u001b[0;34m)\u001b[0m\u001b[0;34m:\u001b[0m\u001b[0;34m\u001b[0m\u001b[0;34m\u001b[0m\u001b[0m\n\u001b[1;32m   2880\u001b[0m                         \u001b[0mv\u001b[0m \u001b[0;34m=\u001b[0m \u001b[0mduck_array_ops\u001b[0m\u001b[0;34m.\u001b[0m\u001b[0mastype\u001b[0m\u001b[0;34m(\u001b[0m\u001b[0mv\u001b[0m\u001b[0;34m,\u001b[0m \u001b[0mdtype\u001b[0m\u001b[0;34m=\u001b[0m\u001b[0;34m\"datetime64[ns]\"\u001b[0m\u001b[0;34m)\u001b[0m\u001b[0;34m\u001b[0m\u001b[0;34m\u001b[0m\u001b[0m\n\u001b[1;32m   2881\u001b[0m                     \u001b[0;32melif\u001b[0m \u001b[0misinstance\u001b[0m\u001b[0;34m(\u001b[0m\u001b[0mindex\u001b[0m\u001b[0;34m,\u001b[0m \u001b[0mCFTimeIndex\u001b[0m\u001b[0;34m)\u001b[0m\u001b[0;34m:\u001b[0m\u001b[0;34m\u001b[0m\u001b[0;34m\u001b[0m\u001b[0m\n",
      "\u001b[0;31mKeyError\u001b[0m: 'region'"
     ]
    }
   ],
   "source": [
    "ndb.write_db_to_brightway(\"wind turbine test 22\")"
   ]
  },
  {
   "cell_type": "code",
   "execution_count": 35,
   "id": "5dabb5b07881236",
   "metadata": {},
   "outputs": [
    {
     "name": "stdout",
     "output_type": "stream",
     "text": [
      "Validated Average: 22000.00 kW (Target: 22000 kW)\n"
     ]
    }
   ],
   "source": [
    "import numpy as np\n",
    "from scipy.stats import truncnorm\n",
    "from scipy.optimize import minimize\n",
    "\n",
    "def get_fleet_distribution(power: int) -> dict:\n",
    "    \"\"\"\n",
    "    Generate a distribution of wind turbine capacities such that\n",
    "    the weighted average equals the fleet's average capacity.\n",
    "\n",
    "    Parameters:\n",
    "    - power (int): Fleet average capacity in kW.\n",
    "\n",
    "    Returns:\n",
    "    - dict: Distribution of turbine capacities (bin centers) with percentages.\n",
    "    \"\"\"\n",
    "\n",
    "    # Parameters for the log-normal distribution\n",
    "    sigma = 0.7  # Standard deviation (controls skewness)\n",
    "    min_capacity = 1000  # Minimum capacity (kW)\n",
    "    max_capacity = 25000  # Maximum capacity (kW)\n",
    "\n",
    "    # Define bin edges and centers\n",
    "    bin_edges = np.arange(min_capacity, max_capacity + 1000, 1000)\n",
    "    bin_centers = (bin_edges[:-1] + bin_edges[1:]) / 2\n",
    "\n",
    "    # Generate truncated log-normal data\n",
    "    mu = np.log(power) - (sigma ** 2 / 2)\n",
    "    a, b = (np.log(min_capacity) - mu) / sigma, (np.log(max_capacity) - mu) / sigma\n",
    "    n_samples = 100000\n",
    "    lognormal_samples = truncnorm.rvs(a, b, loc=mu, scale=sigma, size=n_samples)\n",
    "    capacities = np.exp(lognormal_samples)\n",
    "\n",
    "    # Compute histogram counts\n",
    "    counts, _ = np.histogram(capacities, bins=bin_edges)\n",
    "\n",
    "    # Initial raw distribution\n",
    "    raw_distribution = counts / counts.sum()\n",
    "\n",
    "    # Optimization target: match the weighted average to the target\n",
    "    def objective(weights):\n",
    "        return np.sum((weights / weights.sum()) * bin_centers) - power\n",
    "\n",
    "    # Constraint: weights must sum to 1\n",
    "    constraints = {\"type\": \"eq\", \"fun\": lambda w: w.sum() - 1}\n",
    "\n",
    "    # Bounds: weights must be non-negative\n",
    "    bounds = [(0, 1) for _ in range(len(bin_centers))]\n",
    "\n",
    "    # Optimize weights\n",
    "    result = minimize(\n",
    "        lambda w: abs(objective(w)),  # Minimize the absolute difference\n",
    "        x0=raw_distribution,  # Initial guess\n",
    "        bounds=bounds,\n",
    "        constraints=constraints,\n",
    "        method=\"SLSQP\"  # Sequential Least Squares Programming\n",
    "    )\n",
    "\n",
    "    if not result.success:\n",
    "        raise ValueError(\"Optimization failed to converge.\")\n",
    "\n",
    "    # Extract optimized weights\n",
    "    optimized_weights = result.x / result.x.sum()\n",
    "\n",
    "    # Validate the weighted average\n",
    "    validated_average = np.sum(optimized_weights * bin_centers)\n",
    "    print(f\"Validated Average: {validated_average:.2f} kW (Target: {power} kW)\")\n",
    "\n",
    "    # Return the final distribution as a dictionary\n",
    "    return {int(center): optimized_weights[i] for i, center in enumerate(bin_centers)}\n",
    "\n",
    "r = get_fleet_distribution(22000)"
   ]
  },
  {
   "cell_type": "code",
   "execution_count": 12,
   "id": "cfe705f3-29f6-4f28-b035-57d0c7c1f8a9",
   "metadata": {},
   "outputs": [
    {
     "name": "stdout",
     "output_type": "stream",
     "text": [
      "Collecting rasterio\n",
      "  Downloading rasterio-1.4.3-cp311-cp311-macosx_14_0_arm64.whl.metadata (9.1 kB)\n",
      "Collecting affine (from rasterio)\n",
      "  Downloading affine-2.4.0-py3-none-any.whl.metadata (4.0 kB)\n",
      "Requirement already satisfied: attrs in /opt/homebrew/Caskroom/miniforge/base/envs/premise-j/lib/python3.11/site-packages (from rasterio) (24.3.0)\n",
      "Requirement already satisfied: certifi in /opt/homebrew/Caskroom/miniforge/base/envs/premise-j/lib/python3.11/site-packages (from rasterio) (2024.12.14)\n",
      "Requirement already satisfied: click>=4.0 in /opt/homebrew/Caskroom/miniforge/base/envs/premise-j/lib/python3.11/site-packages (from rasterio) (8.1.7)\n",
      "Collecting cligj>=0.5 (from rasterio)\n",
      "  Downloading cligj-0.7.2-py3-none-any.whl.metadata (5.0 kB)\n",
      "Requirement already satisfied: numpy>=1.24 in /opt/homebrew/Caskroom/miniforge/base/envs/premise-j/lib/python3.11/site-packages (from rasterio) (1.26.4)\n",
      "Collecting click-plugins (from rasterio)\n",
      "  Downloading click_plugins-1.1.1-py2.py3-none-any.whl.metadata (6.4 kB)\n",
      "Requirement already satisfied: pyparsing in /opt/homebrew/Caskroom/miniforge/base/envs/premise-j/lib/python3.11/site-packages (from rasterio) (3.2.1)\n",
      "Downloading rasterio-1.4.3-cp311-cp311-macosx_14_0_arm64.whl (18.8 MB)\n",
      "\u001b[2K   \u001b[90m━━━━━━━━━━━━━━━━━━━━━━━━━━━━━━━━━━━━━━━━\u001b[0m \u001b[32m18.8/18.8 MB\u001b[0m \u001b[31m16.6 MB/s\u001b[0m eta \u001b[36m0:00:00\u001b[0ma \u001b[36m0:00:01\u001b[0m\n",
      "Downloading cligj-0.7.2-py3-none-any.whl (7.1 kB)\n",
      "Downloading affine-2.4.0-py3-none-any.whl (15 kB)\n",
      "Downloading click_plugins-1.1.1-py2.py3-none-any.whl (7.5 kB)\n",
      "Installing collected packages: cligj, click-plugins, affine, rasterio\n",
      "Successfully installed affine-2.4.0 click-plugins-1.1.1 cligj-0.7.2 rasterio-1.4.3\n"
     ]
    }
   ],
   "source": [
    "!pip install rasterio"
   ]
  },
  {
   "cell_type": "code",
   "execution_count": null,
   "id": "f99c4699-1924-4216-9f13-7838dbd09825",
   "metadata": {},
   "outputs": [],
   "source": [
    "from pycoast import ContourWriter"
   ]
  },
  {
   "cell_type": "code",
   "execution_count": 19,
   "id": "4e230520-6e51-4999-82c6-3ea5bdd7089e",
   "metadata": {},
   "outputs": [
    {
     "ename": "ShapefileException",
     "evalue": "Unable to open gshhs/GSHHS_shp/l/GSHHS_l_L1.dbf or gshhs/GSHHS_shp/l/GSHHS_l_L1.shp.",
     "output_type": "error",
     "traceback": [
      "\u001b[0;31m---------------------------------------------------------------------------\u001b[0m",
      "\u001b[0;31mShapefileException\u001b[0m                        Traceback (most recent call last)",
      "Cell \u001b[0;32mIn[19], line 32\u001b[0m\n\u001b[1;32m     29\u001b[0m cw \u001b[38;5;241m=\u001b[39m ContourWriterAGG(coastline_data_path)\n\u001b[1;32m     31\u001b[0m \u001b[38;5;66;03m# Add coastlines to define land and sea regions\u001b[39;00m\n\u001b[0;32m---> 32\u001b[0m \u001b[43mcw\u001b[49m\u001b[38;5;241;43m.\u001b[39;49m\u001b[43madd_coastlines\u001b[49m\u001b[43m(\u001b[49m\u001b[43mimg\u001b[49m\u001b[43m,\u001b[49m\u001b[43m \u001b[49m\u001b[43marea_def\u001b[49m\u001b[43m,\u001b[49m\u001b[43m \u001b[49m\u001b[43mresolution\u001b[49m\u001b[38;5;241;43m=\u001b[39;49m\u001b[38;5;124;43m'\u001b[39;49m\u001b[38;5;124;43ml\u001b[39;49m\u001b[38;5;124;43m'\u001b[39;49m\u001b[43m,\u001b[49m\u001b[43m \u001b[49m\u001b[43mlevel\u001b[49m\u001b[38;5;241;43m=\u001b[39;49m\u001b[38;5;241;43m4\u001b[39;49m\u001b[43m)\u001b[49m\n\u001b[1;32m     34\u001b[0m \u001b[38;5;66;03m# Convert the image to a numpy array (land is non-white pixels)\u001b[39;00m\n\u001b[1;32m     35\u001b[0m mask_array \u001b[38;5;241m=\u001b[39m np\u001b[38;5;241m.\u001b[39marray(img)\n",
      "File \u001b[0;32m/opt/homebrew/Caskroom/miniforge/base/envs/premise-j/lib/python3.11/site-packages/pycoast/cw_agg.py:606\u001b[0m, in \u001b[0;36mContourWriterAGG.add_coastlines\u001b[0;34m(self, image, area_def, resolution, level, fill, fill_opacity, outline, width, outline_opacity, x_offset, y_offset)\u001b[0m\n\u001b[1;32m    563\u001b[0m \u001b[38;5;28;01mdef\u001b[39;00m \u001b[38;5;21madd_coastlines\u001b[39m(\n\u001b[1;32m    564\u001b[0m     \u001b[38;5;28mself\u001b[39m,\n\u001b[1;32m    565\u001b[0m     image,\n\u001b[0;32m   (...)\u001b[0m\n\u001b[1;32m    575\u001b[0m     y_offset\u001b[38;5;241m=\u001b[39m\u001b[38;5;241m0\u001b[39m,\n\u001b[1;32m    576\u001b[0m ):\n\u001b[1;32m    577\u001b[0m \u001b[38;5;250m    \u001b[39m\u001b[38;5;124;03m\"\"\"Add coastlines to a PIL image object.\u001b[39;00m\n\u001b[1;32m    578\u001b[0m \n\u001b[1;32m    579\u001b[0m \u001b[38;5;124;03m    :Parameters:\u001b[39;00m\n\u001b[0;32m   (...)\u001b[0m\n\u001b[1;32m    604\u001b[0m \n\u001b[1;32m    605\u001b[0m \u001b[38;5;124;03m    \"\"\"\u001b[39;00m\n\u001b[0;32m--> 606\u001b[0m     \u001b[38;5;28;43mself\u001b[39;49m\u001b[38;5;241;43m.\u001b[39;49m\u001b[43m_add_feature\u001b[49m\u001b[43m(\u001b[49m\n\u001b[1;32m    607\u001b[0m \u001b[43m        \u001b[49m\u001b[43mimage\u001b[49m\u001b[43m,\u001b[49m\n\u001b[1;32m    608\u001b[0m \u001b[43m        \u001b[49m\u001b[43marea_def\u001b[49m\u001b[43m,\u001b[49m\n\u001b[1;32m    609\u001b[0m \u001b[43m        \u001b[49m\u001b[38;5;124;43m\"\u001b[39;49m\u001b[38;5;124;43mpolygon\u001b[39;49m\u001b[38;5;124;43m\"\u001b[39;49m\u001b[43m,\u001b[49m\n\u001b[1;32m    610\u001b[0m \u001b[43m        \u001b[49m\u001b[38;5;124;43m\"\u001b[39;49m\u001b[38;5;124;43mGSHHS\u001b[39;49m\u001b[38;5;124;43m\"\u001b[39;49m\u001b[43m,\u001b[49m\n\u001b[1;32m    611\u001b[0m \u001b[43m        \u001b[49m\u001b[43mresolution\u001b[49m\u001b[38;5;241;43m=\u001b[39;49m\u001b[43mresolution\u001b[49m\u001b[43m,\u001b[49m\n\u001b[1;32m    612\u001b[0m \u001b[43m        \u001b[49m\u001b[43mlevel\u001b[49m\u001b[38;5;241;43m=\u001b[39;49m\u001b[43mlevel\u001b[49m\u001b[43m,\u001b[49m\n\u001b[1;32m    613\u001b[0m \u001b[43m        \u001b[49m\u001b[43mfill\u001b[49m\u001b[38;5;241;43m=\u001b[39;49m\u001b[43mfill\u001b[49m\u001b[43m,\u001b[49m\n\u001b[1;32m    614\u001b[0m \u001b[43m        \u001b[49m\u001b[43mfill_opacity\u001b[49m\u001b[38;5;241;43m=\u001b[39;49m\u001b[43mfill_opacity\u001b[49m\u001b[43m,\u001b[49m\n\u001b[1;32m    615\u001b[0m \u001b[43m        \u001b[49m\u001b[43moutline\u001b[49m\u001b[38;5;241;43m=\u001b[39;49m\u001b[43moutline\u001b[49m\u001b[43m,\u001b[49m\n\u001b[1;32m    616\u001b[0m \u001b[43m        \u001b[49m\u001b[43mwidth\u001b[49m\u001b[38;5;241;43m=\u001b[39;49m\u001b[43mwidth\u001b[49m\u001b[43m,\u001b[49m\n\u001b[1;32m    617\u001b[0m \u001b[43m        \u001b[49m\u001b[43moutline_opacity\u001b[49m\u001b[38;5;241;43m=\u001b[39;49m\u001b[43moutline_opacity\u001b[49m\u001b[43m,\u001b[49m\n\u001b[1;32m    618\u001b[0m \u001b[43m        \u001b[49m\u001b[43mx_offset\u001b[49m\u001b[38;5;241;43m=\u001b[39;49m\u001b[43mx_offset\u001b[49m\u001b[43m,\u001b[49m\n\u001b[1;32m    619\u001b[0m \u001b[43m        \u001b[49m\u001b[43my_offset\u001b[49m\u001b[38;5;241;43m=\u001b[39;49m\u001b[43my_offset\u001b[49m\u001b[43m,\u001b[49m\n\u001b[1;32m    620\u001b[0m \u001b[43m    \u001b[49m\u001b[43m)\u001b[49m\n",
      "File \u001b[0;32m/opt/homebrew/Caskroom/miniforge/base/envs/premise-j/lib/python3.11/site-packages/pycoast/cw_base.py:420\u001b[0m, in \u001b[0;36mContourWriterBase._add_feature\u001b[0;34m(self, image, area_def, feature_type, db_name, tag, zero_pad, resolution, level, x_offset, y_offset, db_root_path, **kwargs)\u001b[0m\n\u001b[1;32m    417\u001b[0m \u001b[38;5;250m\u001b[39m\u001b[38;5;124;03m\"\"\"Add a contour feature to image.\"\"\"\u001b[39;00m\n\u001b[1;32m    418\u001b[0m shape_generator \u001b[38;5;241m=\u001b[39m \u001b[38;5;28mself\u001b[39m\u001b[38;5;241m.\u001b[39m_iterate_db(db_name, tag, resolution, level, zero_pad, db_root_path\u001b[38;5;241m=\u001b[39mdb_root_path)\n\u001b[0;32m--> 420\u001b[0m \u001b[38;5;28;01mreturn\u001b[39;00m \u001b[38;5;28;43mself\u001b[39;49m\u001b[38;5;241;43m.\u001b[39;49m\u001b[43madd_shapes\u001b[49m\u001b[43m(\u001b[49m\n\u001b[1;32m    421\u001b[0m \u001b[43m    \u001b[49m\u001b[43mimage\u001b[49m\u001b[43m,\u001b[49m\n\u001b[1;32m    422\u001b[0m \u001b[43m    \u001b[49m\u001b[43marea_def\u001b[49m\u001b[43m,\u001b[49m\n\u001b[1;32m    423\u001b[0m \u001b[43m    \u001b[49m\u001b[43mshape_generator\u001b[49m\u001b[43m,\u001b[49m\n\u001b[1;32m    424\u001b[0m \u001b[43m    \u001b[49m\u001b[43mfeature_type\u001b[49m\u001b[38;5;241;43m=\u001b[39;49m\u001b[43mfeature_type\u001b[49m\u001b[43m,\u001b[49m\n\u001b[1;32m    425\u001b[0m \u001b[43m    \u001b[49m\u001b[43mx_offset\u001b[49m\u001b[38;5;241;43m=\u001b[39;49m\u001b[43mx_offset\u001b[49m\u001b[43m,\u001b[49m\n\u001b[1;32m    426\u001b[0m \u001b[43m    \u001b[49m\u001b[43my_offset\u001b[49m\u001b[38;5;241;43m=\u001b[39;49m\u001b[43my_offset\u001b[49m\u001b[43m,\u001b[49m\n\u001b[1;32m    427\u001b[0m \u001b[43m    \u001b[49m\u001b[38;5;241;43m*\u001b[39;49m\u001b[38;5;241;43m*\u001b[39;49m\u001b[43mkwargs\u001b[49m\u001b[43m,\u001b[49m\n\u001b[1;32m    428\u001b[0m \u001b[43m\u001b[49m\u001b[43m)\u001b[49m\n",
      "File \u001b[0;32m/opt/homebrew/Caskroom/miniforge/base/envs/premise-j/lib/python3.11/site-packages/pycoast/cw_base.py:305\u001b[0m, in \u001b[0;36mContourWriterBase.add_shapes\u001b[0;34m(self, image, area_def, shapes, feature_type, x_offset, y_offset, **kwargs)\u001b[0m\n\u001b[1;32m    302\u001b[0m lon_min, lon_max, lat_min, lat_max \u001b[38;5;241m=\u001b[39m _get_lon_lat_bounding_box(area_extent, x_size, y_size, prj)\n\u001b[1;32m    304\u001b[0m \u001b[38;5;66;03m# Iterate through shapes\u001b[39;00m\n\u001b[0;32m--> 305\u001b[0m \u001b[43m\u001b[49m\u001b[38;5;28;43;01mfor\u001b[39;49;00m\u001b[43m \u001b[49m\u001b[43mshape\u001b[49m\u001b[43m \u001b[49m\u001b[38;5;129;43;01min\u001b[39;49;00m\u001b[43m \u001b[49m\u001b[43mshapes\u001b[49m\u001b[43m:\u001b[49m\n\u001b[1;32m    306\u001b[0m \u001b[43m    \u001b[49m\u001b[38;5;28;43;01mif\u001b[39;49;00m\u001b[43m \u001b[49m\u001b[38;5;28;43misinstance\u001b[39;49m\u001b[43m(\u001b[49m\u001b[43mshape\u001b[49m\u001b[43m,\u001b[49m\u001b[43m \u001b[49m\u001b[43m(\u001b[49m\u001b[38;5;28;43mlist\u001b[39;49m\u001b[43m,\u001b[49m\u001b[43m \u001b[49m\u001b[38;5;28;43mtuple\u001b[39;49m\u001b[43m)\u001b[49m\u001b[43m)\u001b[49m\u001b[43m:\u001b[49m\n\u001b[1;32m    307\u001b[0m \u001b[43m        \u001b[49m\u001b[43mnew_kwargs\u001b[49m\u001b[43m \u001b[49m\u001b[38;5;241;43m=\u001b[39;49m\u001b[43m \u001b[49m\u001b[43mkwargs\u001b[49m\u001b[38;5;241;43m.\u001b[39;49m\u001b[43mcopy\u001b[49m\u001b[43m(\u001b[49m\u001b[43m)\u001b[49m\n",
      "File \u001b[0;32m/opt/homebrew/Caskroom/miniforge/base/envs/premise-j/lib/python3.11/site-packages/pycoast/cw_base.py:443\u001b[0m, in \u001b[0;36mContourWriterBase._iterate_db\u001b[0;34m(self, db_name, tag, resolution, level, zero_pad, db_root_path)\u001b[0m\n\u001b[1;32m    441\u001b[0m shapefilename \u001b[38;5;241m=\u001b[39m os\u001b[38;5;241m.\u001b[39mpath\u001b[38;5;241m.\u001b[39mjoin(shapefile_root_dir, format_string \u001b[38;5;241m%\u001b[39m level_format_params)\n\u001b[1;32m    442\u001b[0m \u001b[38;5;28;01mtry\u001b[39;00m:\n\u001b[0;32m--> 443\u001b[0m     s \u001b[38;5;241m=\u001b[39m \u001b[43mshapefile\u001b[49m\u001b[38;5;241;43m.\u001b[39;49m\u001b[43mReader\u001b[49m\u001b[43m(\u001b[49m\u001b[43mshapefilename\u001b[49m\u001b[43m)\u001b[49m\n\u001b[1;32m    444\u001b[0m     shapes \u001b[38;5;241m=\u001b[39m s\u001b[38;5;241m.\u001b[39mshapes()\n\u001b[1;32m    445\u001b[0m \u001b[38;5;28;01mexcept\u001b[39;00m \u001b[38;5;167;01mAttributeError\u001b[39;00m:\n",
      "File \u001b[0;32m/opt/homebrew/Caskroom/miniforge/base/envs/premise-j/lib/python3.11/site-packages/shapefile.py:1048\u001b[0m, in \u001b[0;36mReader.__init__\u001b[0;34m(self, *args, **kwargs)\u001b[0m\n\u001b[1;32m   1043\u001b[0m                 \u001b[38;5;28;01mraise\u001b[39;00m ShapefileException(\u001b[38;5;124m\"\u001b[39m\u001b[38;5;124mNo shp or dbf file found at url: \u001b[39m\u001b[38;5;132;01m%s\u001b[39;00m\u001b[38;5;124m\"\u001b[39m \u001b[38;5;241m%\u001b[39m path)\n\u001b[1;32m   1045\u001b[0m         \u001b[38;5;28;01melse\u001b[39;00m:\n\u001b[1;32m   1046\u001b[0m             \u001b[38;5;66;03m# Local file path to a shapefile\u001b[39;00m\n\u001b[1;32m   1047\u001b[0m             \u001b[38;5;66;03m# Load and exit early\u001b[39;00m\n\u001b[0;32m-> 1048\u001b[0m             \u001b[38;5;28;43mself\u001b[39;49m\u001b[38;5;241;43m.\u001b[39;49m\u001b[43mload\u001b[49m\u001b[43m(\u001b[49m\u001b[43mpath\u001b[49m\u001b[43m)\u001b[49m\n\u001b[1;32m   1049\u001b[0m             \u001b[38;5;28;01mreturn\u001b[39;00m\n\u001b[1;32m   1051\u001b[0m \u001b[38;5;66;03m# Otherwise, load from separate shp/shx/dbf args (must be path or file-like)\u001b[39;00m\n",
      "File \u001b[0;32m/opt/homebrew/Caskroom/miniforge/base/envs/premise-j/lib/python3.11/site-packages/shapefile.py:1193\u001b[0m, in \u001b[0;36mReader.load\u001b[0;34m(self, shapefile)\u001b[0m\n\u001b[1;32m   1191\u001b[0m     \u001b[38;5;28mself\u001b[39m\u001b[38;5;241m.\u001b[39mload_dbf(shapeName)\n\u001b[1;32m   1192\u001b[0m     \u001b[38;5;28;01mif\u001b[39;00m \u001b[38;5;129;01mnot\u001b[39;00m (\u001b[38;5;28mself\u001b[39m\u001b[38;5;241m.\u001b[39mshp \u001b[38;5;129;01mor\u001b[39;00m \u001b[38;5;28mself\u001b[39m\u001b[38;5;241m.\u001b[39mdbf):\n\u001b[0;32m-> 1193\u001b[0m         \u001b[38;5;28;01mraise\u001b[39;00m ShapefileException(\u001b[38;5;124m\"\u001b[39m\u001b[38;5;124mUnable to open \u001b[39m\u001b[38;5;132;01m%s\u001b[39;00m\u001b[38;5;124m.dbf or \u001b[39m\u001b[38;5;132;01m%s\u001b[39;00m\u001b[38;5;124m.shp.\u001b[39m\u001b[38;5;124m\"\u001b[39m \u001b[38;5;241m%\u001b[39m (shapeName, shapeName))\n\u001b[1;32m   1194\u001b[0m \u001b[38;5;28;01mif\u001b[39;00m \u001b[38;5;28mself\u001b[39m\u001b[38;5;241m.\u001b[39mshp:\n\u001b[1;32m   1195\u001b[0m     \u001b[38;5;28mself\u001b[39m\u001b[38;5;241m.\u001b[39m__shpHeader()\n",
      "\u001b[0;31mShapefileException\u001b[0m: Unable to open gshhs/GSHHS_shp/l/GSHHS_l_L1.dbf or gshhs/GSHHS_shp/l/GSHHS_l_L1.shp."
     ]
    }
   ],
   "source": []
  },
  {
   "cell_type": "code",
   "execution_count": null,
   "id": "b9af2d48-1372-41ff-9291-143ea19f354b",
   "metadata": {},
   "outputs": [],
   "source": []
  }
 ],
 "metadata": {
  "kernelspec": {
   "display_name": "Python 3 (ipykernel)",
   "language": "python",
   "name": "python3"
  },
  "language_info": {
   "codemirror_mode": {
    "name": "ipython",
    "version": 3
   },
   "file_extension": ".py",
   "mimetype": "text/x-python",
   "name": "python",
   "nbconvert_exporter": "python",
   "pygments_lexer": "ipython3",
   "version": "3.11.11"
  }
 },
 "nbformat": 4,
 "nbformat_minor": 5
}
