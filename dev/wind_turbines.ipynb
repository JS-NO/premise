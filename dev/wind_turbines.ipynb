{
 "cells": [
  {
   "cell_type": "code",
   "id": "initial_id",
   "metadata": {
    "collapsed": true,
    "ExecuteTime": {
     "end_time": "2024-11-08T15:54:17.737894Z",
     "start_time": "2024-11-08T15:54:14.857939Z"
    }
   },
   "source": [
    "from premise import *\n",
    "import bw2data"
   ],
   "outputs": [],
   "execution_count": 1
  },
  {
   "metadata": {
    "ExecuteTime": {
     "end_time": "2024-11-08T15:54:18.571185Z",
     "start_time": "2024-11-08T15:54:18.307736Z"
    }
   },
   "cell_type": "code",
   "source": "bw2data.projects.set_current(\"ecoinvent-3.10-cutoff\")",
   "id": "be419e113433336f",
   "outputs": [],
   "execution_count": 2
  },
  {
   "metadata": {
    "ExecuteTime": {
     "end_time": "2024-11-08T15:54:24.002263Z",
     "start_time": "2024-11-08T15:54:19.296423Z"
    }
   },
   "cell_type": "code",
   "source": [
    "ndb = NewDatabase(\n",
    "    scenarios=[\n",
    "        {\"model\":\"image\", \"pathway\":\"SSP2-Base\", \"year\":2050},\n",
    "        #{\"model\":\"image\", \"pathway\":\"SSP2-Base\", \"year\":2030},\n",
    "    ],\n",
    "    source_db=\"ecoinvent-3.10-cutoff\", # <-- name of the database in the BW2 project. Must be a string.\n",
    "    source_version=\"3.10\", # <-- version of ecoinvent. Can be \"3.5\", \"3.6\", \"3.7\" or \"3.8\". Must be a string.\n",
    "    key=\"tUePmX_S5B8ieZkkM7WUU2CnO8SmShwmAeWK9x2rTFo=\",\n",
    "    biosphere_name=\"ecoinvent-3.10-biosphere\",\n",
    "    keep_imports_uncertainty=True\n",
    ")"
   ],
   "id": "39ba05d4593d0d27",
   "outputs": [
    {
     "name": "stdout",
     "output_type": "stream",
     "text": [
      "premise v.(2, 1, 8)\n",
      "+------------------------------------------------------------------+\n",
      "| Warning                                                          |\n",
      "+------------------------------------------------------------------+\n",
      "| Because some of the scenarios can yield LCI databases            |\n",
      "| containing net negative emission technologies (NET),             |\n",
      "| it is advised to account for biogenic CO2 flows when calculating |\n",
      "| Global Warming potential indicators.                             |\n",
      "| `premise_gwp` provides characterization factors for such flows.  |\n",
      "| It also provides factors for hydrogen emissions to air.          |\n",
      "|                                                                  |\n",
      "| Within your bw2 project:                                         |\n",
      "| from premise_gwp import add_premise_gwp                          |\n",
      "| add_premise_gwp()                                                |\n",
      "+------------------------------------------------------------------+\n",
      "+--------------------------------+----------------------------------+\n",
      "| Utils functions                | Description                      |\n",
      "+--------------------------------+----------------------------------+\n",
      "| clear_cache()                  | Clears the cache folder. Useful  |\n",
      "|                                | when updating `premise`or        |\n",
      "|                                | encountering issues with         |\n",
      "|                                | inventories.                     |\n",
      "+--------------------------------+----------------------------------+\n",
      "| get_regions_definition(model)  | Retrieves the list of countries  |\n",
      "|                                | for each region of the model.    |\n",
      "+--------------------------------+----------------------------------+\n",
      "| ndb.NewDatabase(...)           | Generates a summary of the most  |\n",
      "| ndb.generate_scenario_report() | important scenarios' variables.  |\n",
      "+--------------------------------+----------------------------------+\n",
      "Keep uncertainty data?\n",
      "NewDatabase(..., keep_source_db_uncertainty=True), keep_imports_uncertainty=True)\n",
      "\n",
      "Hide these messages?\n",
      "NewDatabase(..., quiet=True)\n",
      "- Extracting source database\n",
      "- Extracting inventories\n",
      "- Fetching IAM data\n",
      "Done!\n"
     ]
    }
   ],
   "execution_count": 3
  },
  {
   "metadata": {
    "ExecuteTime": {
     "end_time": "2024-11-08T15:54:31.904528Z",
     "start_time": "2024-11-08T15:54:24.012360Z"
    }
   },
   "cell_type": "code",
   "source": "ndb.update(\"renewables\")",
   "id": "c437afba0c999505",
   "outputs": [
    {
     "name": "stderr",
     "output_type": "stream",
     "text": [
      "Processing scenarios for sector 'renewables':   0%| | 0/1 [00:00<?, ?i"
     ]
    },
    {
     "name": "stdout",
     "output_type": "stream",
     "text": [
      "{'nacelle': 92037.4051755405, 'rotor': 3632.8605437456426, 'other': 67500.0, 'transformer + cabinet': 483.4078734327544}\n",
      "current {'foundation': 380872.0, 'tower': 99787.0, 'platform': 29508.0, 'grid connector': 35960.0, 'nacelle': 92037.4051755405, 'rotor': 3632.8605437456426, 'other': 67500.0, 'transformer + cabinet': 483.4078734327544}\n",
      "\n",
      "target {'foundation': 2125694.9, 'tower': 1120388.7877623504, 'nacelle': 766386.2144249998, 'rotor': 500000.0}\n",
      "\n",
      "AT\n",
      "BE\n",
      "CA\n",
      "CH\n",
      "DE\n",
      "DK\n",
      "ES\n",
      "FI\n",
      "FR\n",
      "IE\n",
      "IT\n",
      "JP\n",
      "KR\n",
      "NL\n",
      "NO\n",
      "PT\n",
      "SE\n",
      "UK\n",
      "US\n",
      "+---------+-----------------+----------+---------------------+-------------------+\n",
      "| Country | Capacity factor |   Type   | Lifetime prod [kWh] | Annual prod [kWh] |\n",
      "+---------+-----------------+----------+---------------------+-------------------+\n",
      "|    AT   |       27.5      | offshore |      923032440      |     46151622.0    |\n",
      "|    BE   |       33.6      | offshore |      1127777817     |    56388890.85    |\n",
      "|    CA   |       30.1      | offshore |      1010300961     |    50515048.05    |\n",
      "|    CH   |       26.7      | offshore |      896180587      |    44809029.35    |\n",
      "|    DE   |       36.1      | offshore |      1211689857     |    60584492.85    |\n",
      "|    DK   |       43.3      | offshore |      1453356532     |     72667826.6    |\n",
      "|    ES   |       24.0      | offshore |      805555584      |     40277779.2    |\n",
      "|    FI   |       33.2      | offshore |      1114351891     |    55717594.55    |\n",
      "|    FR   |       21.9      | offshore |      735069470      |     36753473.5    |\n",
      "|    IE   |       34.8      | offshore |      1168055596     |     58402779.8    |\n",
      "|    IT   |       20.9      | offshore |      701504654      |     35075232.7    |\n",
      "|    JP   |       21.5      | offshore |      721643544      |     36082177.2    |\n",
      "|    KR   |       21.6      | offshore |      725000025      |    36250001.25    |\n",
      "|    NL   |       37.8      | offshore |      1268750044     |     63437502.2    |\n",
      "|    NO   |       34.6      | offshore |      1161342633     |    58067131.65    |\n",
      "|    PT   |       26.7      | offshore |      896180587      |    44809029.35    |\n",
      "|    SE   |       32.5      | offshore |      1090856520     |     54542826.0    |\n",
      "|    UK   |       40.8      | offshore |      1369444492     |     68472224.6    |\n",
      "|    US   |       44.0      | offshore |      1476851904     |     73842595.2    |\n",
      "+---------+-----------------+----------+---------------------+-------------------+\n"
     ]
    },
    {
     "name": "stderr",
     "output_type": "stream",
     "text": [
      "Processing scenarios for sector 'renewables': 100%|█| 1/1 [00:07<00:00"
     ]
    },
    {
     "name": "stdout",
     "output_type": "stream",
     "text": [
      "Done!\n",
      "\n"
     ]
    },
    {
     "name": "stderr",
     "output_type": "stream",
     "text": [
      "\n"
     ]
    }
   ],
   "execution_count": 4
  },
  {
   "metadata": {
    "ExecuteTime": {
     "end_time": "2024-11-08T14:45:49.704702Z",
     "start_time": "2024-11-08T14:42:17.467213Z"
    }
   },
   "cell_type": "code",
   "source": "ndb.write_db_to_brightway(\"test wind turbines 1\")",
   "id": "52ad28a8b8965ca3",
   "outputs": [
    {
     "name": "stdout",
     "output_type": "stream",
     "text": [
      "Write new database(s) to Brightway.\n",
      "Running all checks...\n",
      "Minor anomalies found: check the change report.\n",
      "Warning: No valid output stream.\n",
      "Title: Writing activities to SQLite3 database:\n",
      "  Started: 11/08/2024 15:42:54\n",
      "  Finished: 11/08/2024 15:43:13\n",
      "  Total time elapsed: 00:00:19\n",
      "  CPU %: 91.60\n",
      "  Memory %: 14.70\n",
      "Created database: test wind turbines 1\n",
      "Generate scenario report.\n"
     ]
    },
    {
     "ename": "KeyError",
     "evalue": "'region'",
     "output_type": "error",
     "traceback": [
      "\u001B[0;31m---------------------------------------------------------------------------\u001B[0m",
      "\u001B[0;31mKeyError\u001B[0m                                  Traceback (most recent call last)",
      "\u001B[0;32m/var/folders/cn/pys1j9rn0y7djkhv3hfdtrs00000gn/T/ipykernel_31095/1101464401.py\u001B[0m in \u001B[0;36m?\u001B[0;34m()\u001B[0m\n\u001B[0;32m----> 1\u001B[0;31m \u001B[0mndb\u001B[0m\u001B[0;34m.\u001B[0m\u001B[0mwrite_db_to_brightway\u001B[0m\u001B[0;34m(\u001B[0m\u001B[0;34m\"test wind turbines 1\"\u001B[0m\u001B[0;34m)\u001B[0m\u001B[0;34m\u001B[0m\u001B[0;34m\u001B[0m\u001B[0m\n\u001B[0m",
      "\u001B[0;32m~/GitHub/premise-johanna/premise/new_database.py\u001B[0m in \u001B[0;36m?\u001B[0;34m(self, name)\u001B[0m\n\u001B[1;32m   1120\u001B[0m             \u001B[0;32mif\u001B[0m \u001B[0;34m\"applied functions\"\u001B[0m \u001B[0;32min\u001B[0m \u001B[0mscenario\u001B[0m\u001B[0;34m:\u001B[0m\u001B[0;34m\u001B[0m\u001B[0;34m\u001B[0m\u001B[0m\n\u001B[1;32m   1121\u001B[0m                 \u001B[0;32mdel\u001B[0m \u001B[0mscenario\u001B[0m\u001B[0;34m[\u001B[0m\u001B[0;34m\"applied functions\"\u001B[0m\u001B[0;34m]\u001B[0m\u001B[0;34m\u001B[0m\u001B[0;34m\u001B[0m\u001B[0m\n\u001B[1;32m   1122\u001B[0m \u001B[0;34m\u001B[0m\u001B[0m\n\u001B[1;32m   1123\u001B[0m         \u001B[0;31m# generate scenario report\u001B[0m\u001B[0;34m\u001B[0m\u001B[0;34m\u001B[0m\u001B[0m\n\u001B[0;32m-> 1124\u001B[0;31m         \u001B[0mself\u001B[0m\u001B[0;34m.\u001B[0m\u001B[0mgenerate_scenario_report\u001B[0m\u001B[0;34m(\u001B[0m\u001B[0;34m)\u001B[0m\u001B[0;34m\u001B[0m\u001B[0;34m\u001B[0m\u001B[0m\n\u001B[0m\u001B[1;32m   1125\u001B[0m         \u001B[0;31m# generate change report from logs\u001B[0m\u001B[0;34m\u001B[0m\u001B[0;34m\u001B[0m\u001B[0m\n\u001B[1;32m   1126\u001B[0m         \u001B[0mself\u001B[0m\u001B[0;34m.\u001B[0m\u001B[0mgenerate_change_report\u001B[0m\u001B[0;34m(\u001B[0m\u001B[0;34m)\u001B[0m\u001B[0;34m\u001B[0m\u001B[0;34m\u001B[0m\u001B[0m\n",
      "\u001B[0;32m~/GitHub/premise-johanna/premise/new_database.py\u001B[0m in \u001B[0;36m?\u001B[0;34m(self, filepath, name)\u001B[0m\n\u001B[1;32m   1368\u001B[0m         \u001B[0mname\u001B[0m \u001B[0;34m=\u001B[0m \u001B[0mPath\u001B[0m\u001B[0;34m(\u001B[0m\u001B[0mname\u001B[0m\u001B[0;34m)\u001B[0m\u001B[0;34m\u001B[0m\u001B[0;34m\u001B[0m\u001B[0m\n\u001B[1;32m   1369\u001B[0m         \u001B[0;32mif\u001B[0m \u001B[0mname\u001B[0m\u001B[0;34m.\u001B[0m\u001B[0msuffix\u001B[0m \u001B[0;34m!=\u001B[0m \u001B[0;34m\".xlsx\"\u001B[0m\u001B[0;34m:\u001B[0m\u001B[0;34m\u001B[0m\u001B[0;34m\u001B[0m\u001B[0m\n\u001B[1;32m   1370\u001B[0m             \u001B[0mname\u001B[0m \u001B[0;34m=\u001B[0m \u001B[0mname\u001B[0m\u001B[0;34m.\u001B[0m\u001B[0mwith_suffix\u001B[0m\u001B[0;34m(\u001B[0m\u001B[0;34m\".xlsx\"\u001B[0m\u001B[0;34m)\u001B[0m\u001B[0;34m\u001B[0m\u001B[0;34m\u001B[0m\u001B[0m\n\u001B[1;32m   1371\u001B[0m \u001B[0;34m\u001B[0m\u001B[0m\n\u001B[0;32m-> 1372\u001B[0;31m         \u001B[0mgenerate_summary_report\u001B[0m\u001B[0;34m(\u001B[0m\u001B[0mself\u001B[0m\u001B[0;34m.\u001B[0m\u001B[0mscenarios\u001B[0m\u001B[0;34m,\u001B[0m \u001B[0mfilepath\u001B[0m \u001B[0;34m/\u001B[0m \u001B[0mname\u001B[0m\u001B[0;34m)\u001B[0m\u001B[0;34m\u001B[0m\u001B[0;34m\u001B[0m\u001B[0m\n\u001B[0m\u001B[1;32m   1373\u001B[0m \u001B[0;34m\u001B[0m\u001B[0m\n\u001B[1;32m   1374\u001B[0m         \u001B[0mprint\u001B[0m\u001B[0;34m(\u001B[0m\u001B[0;34mf\"Report saved under {filepath}.\"\u001B[0m\u001B[0;34m)\u001B[0m\u001B[0;34m\u001B[0m\u001B[0;34m\u001B[0m\u001B[0m\n",
      "\u001B[0;32m~/GitHub/premise-johanna/premise/report.py\u001B[0m in \u001B[0;36m?\u001B[0;34m(scenarios, filename)\u001B[0m\n\u001B[1;32m    580\u001B[0m                         \u001B[0mworksheet\u001B[0m\u001B[0;34m.\u001B[0m\u001B[0mcell\u001B[0m\u001B[0;34m(\u001B[0m\u001B[0mcolumn\u001B[0m\u001B[0;34m=\u001B[0m\u001B[0mcol\u001B[0m\u001B[0;34m,\u001B[0m \u001B[0mrow\u001B[0m\u001B[0;34m=\u001B[0m\u001B[0mrow\u001B[0m\u001B[0;34m,\u001B[0m \u001B[0mvalue\u001B[0m\u001B[0;34m=\u001B[0m\u001B[0mregion\u001B[0m\u001B[0;34m)\u001B[0m\u001B[0;34m\u001B[0m\u001B[0;34m\u001B[0m\u001B[0m\n\u001B[1;32m    581\u001B[0m \u001B[0;34m\u001B[0m\u001B[0m\n\u001B[1;32m    582\u001B[0m                         \u001B[0mrow\u001B[0m \u001B[0;34m+=\u001B[0m \u001B[0;36m3\u001B[0m\u001B[0;34m\u001B[0m\u001B[0;34m\u001B[0m\u001B[0m\n\u001B[1;32m    583\u001B[0m \u001B[0;34m\u001B[0m\u001B[0m\n\u001B[0;32m--> 584\u001B[0;31m                         dataframe = iam_data.sel(\n\u001B[0m\u001B[1;32m    585\u001B[0m                             variables=[\n\u001B[1;32m    586\u001B[0m                                 \u001B[0mv\u001B[0m \u001B[0;32mfor\u001B[0m \u001B[0mv\u001B[0m \u001B[0;32min\u001B[0m \u001B[0mvariables\u001B[0m \u001B[0;32mif\u001B[0m \u001B[0mv\u001B[0m \u001B[0;32min\u001B[0m \u001B[0miam_data\u001B[0m\u001B[0;34m.\u001B[0m\u001B[0mvariables\u001B[0m\u001B[0;34m.\u001B[0m\u001B[0mvalues\u001B[0m\u001B[0;34m\u001B[0m\u001B[0;34m\u001B[0m\u001B[0m\n\u001B[1;32m    587\u001B[0m                             ],\n",
      "\u001B[0;32m~/GitHub/premise-johanna/venv/lib/python3.11/site-packages/xarray/core/dataarray.py\u001B[0m in \u001B[0;36m?\u001B[0;34m(self, indexers, method, tolerance, drop, **indexers_kwargs)\u001B[0m\n\u001B[1;32m   1671\u001B[0m             \u001B[0mx\u001B[0m        \u001B[0;34m(\u001B[0m\u001B[0mpoints\u001B[0m\u001B[0;34m)\u001B[0m \u001B[0mint64\u001B[0m \u001B[0;36m40\u001B[0m\u001B[0mB\u001B[0m \u001B[0;36m0\u001B[0m \u001B[0;36m1\u001B[0m \u001B[0;36m2\u001B[0m \u001B[0;36m3\u001B[0m \u001B[0;36m4\u001B[0m\u001B[0;34m\u001B[0m\u001B[0;34m\u001B[0m\u001B[0m\n\u001B[1;32m   1672\u001B[0m             \u001B[0my\u001B[0m        \u001B[0;34m(\u001B[0m\u001B[0mpoints\u001B[0m\u001B[0;34m)\u001B[0m \u001B[0mint64\u001B[0m \u001B[0;36m40\u001B[0m\u001B[0mB\u001B[0m \u001B[0;36m0\u001B[0m \u001B[0;36m1\u001B[0m \u001B[0;36m2\u001B[0m \u001B[0;36m3\u001B[0m \u001B[0;36m4\u001B[0m\u001B[0;34m\u001B[0m\u001B[0;34m\u001B[0m\u001B[0m\n\u001B[1;32m   1673\u001B[0m         \u001B[0mDimensions\u001B[0m \u001B[0mwithout\u001B[0m \u001B[0mcoordinates\u001B[0m\u001B[0;34m:\u001B[0m \u001B[0mpoints\u001B[0m\u001B[0;34m\u001B[0m\u001B[0;34m\u001B[0m\u001B[0m\n\u001B[1;32m   1674\u001B[0m         \"\"\"\n\u001B[0;32m-> 1675\u001B[0;31m         ds = self._to_temp_dataset().sel(\n\u001B[0m\u001B[1;32m   1676\u001B[0m             \u001B[0mindexers\u001B[0m\u001B[0;34m=\u001B[0m\u001B[0mindexers\u001B[0m\u001B[0;34m,\u001B[0m\u001B[0;34m\u001B[0m\u001B[0;34m\u001B[0m\u001B[0m\n\u001B[1;32m   1677\u001B[0m             \u001B[0mdrop\u001B[0m\u001B[0;34m=\u001B[0m\u001B[0mdrop\u001B[0m\u001B[0;34m,\u001B[0m\u001B[0;34m\u001B[0m\u001B[0;34m\u001B[0m\u001B[0m\n\u001B[1;32m   1678\u001B[0m             \u001B[0mmethod\u001B[0m\u001B[0;34m=\u001B[0m\u001B[0mmethod\u001B[0m\u001B[0;34m,\u001B[0m\u001B[0;34m\u001B[0m\u001B[0;34m\u001B[0m\u001B[0m\n",
      "\u001B[0;32m~/GitHub/premise-johanna/venv/lib/python3.11/site-packages/xarray/core/dataset.py\u001B[0m in \u001B[0;36m?\u001B[0;34m(self, indexers, method, tolerance, drop, **indexers_kwargs)\u001B[0m\n\u001B[1;32m   3233\u001B[0m                     \u001B[0;32mif\u001B[0m \u001B[0mk\u001B[0m \u001B[0;32min\u001B[0m \u001B[0mself\u001B[0m\u001B[0;34m.\u001B[0m\u001B[0m_coord_names\u001B[0m\u001B[0;34m:\u001B[0m\u001B[0;34m\u001B[0m\u001B[0;34m\u001B[0m\u001B[0m\n\u001B[1;32m   3234\u001B[0m                         \u001B[0mquery_results\u001B[0m\u001B[0;34m.\u001B[0m\u001B[0mdrop_coords\u001B[0m\u001B[0;34m.\u001B[0m\u001B[0mappend\u001B[0m\u001B[0;34m(\u001B[0m\u001B[0mk\u001B[0m\u001B[0;34m)\u001B[0m\u001B[0;34m\u001B[0m\u001B[0;34m\u001B[0m\u001B[0m\n\u001B[1;32m   3235\u001B[0m             \u001B[0mquery_results\u001B[0m\u001B[0;34m.\u001B[0m\u001B[0mvariables\u001B[0m \u001B[0;34m=\u001B[0m \u001B[0mno_scalar_variables\u001B[0m\u001B[0;34m\u001B[0m\u001B[0;34m\u001B[0m\u001B[0m\n\u001B[1;32m   3236\u001B[0m \u001B[0;34m\u001B[0m\u001B[0m\n\u001B[0;32m-> 3237\u001B[0;31m         \u001B[0mresult\u001B[0m \u001B[0;34m=\u001B[0m \u001B[0mself\u001B[0m\u001B[0;34m.\u001B[0m\u001B[0misel\u001B[0m\u001B[0;34m(\u001B[0m\u001B[0mindexers\u001B[0m\u001B[0;34m=\u001B[0m\u001B[0mquery_results\u001B[0m\u001B[0;34m.\u001B[0m\u001B[0mdim_indexers\u001B[0m\u001B[0;34m,\u001B[0m \u001B[0mdrop\u001B[0m\u001B[0;34m=\u001B[0m\u001B[0mdrop\u001B[0m\u001B[0;34m)\u001B[0m\u001B[0;34m\u001B[0m\u001B[0;34m\u001B[0m\u001B[0m\n\u001B[0m\u001B[1;32m   3238\u001B[0m         \u001B[0;32mreturn\u001B[0m \u001B[0mresult\u001B[0m\u001B[0;34m.\u001B[0m\u001B[0m_overwrite_indexes\u001B[0m\u001B[0;34m(\u001B[0m\u001B[0;34m*\u001B[0m\u001B[0mquery_results\u001B[0m\u001B[0;34m.\u001B[0m\u001B[0mas_tuple\u001B[0m\u001B[0;34m(\u001B[0m\u001B[0;34m)\u001B[0m\u001B[0;34m[\u001B[0m\u001B[0;36m1\u001B[0m\u001B[0;34m:\u001B[0m\u001B[0;34m]\u001B[0m\u001B[0;34m)\u001B[0m\u001B[0;34m\u001B[0m\u001B[0;34m\u001B[0m\u001B[0m\n",
      "\u001B[0;32m~/GitHub/premise-johanna/venv/lib/python3.11/site-packages/xarray/core/dataset.py\u001B[0m in \u001B[0;36m?\u001B[0;34m(self, indexers, drop, missing_dims, **indexers_kwargs)\u001B[0m\n\u001B[1;32m   3066\u001B[0m \u001B[0;34m\u001B[0m\u001B[0m\n\u001B[1;32m   3067\u001B[0m         \"\"\"\n\u001B[1;32m   3068\u001B[0m         \u001B[0mindexers\u001B[0m \u001B[0;34m=\u001B[0m \u001B[0meither_dict_or_kwargs\u001B[0m\u001B[0;34m(\u001B[0m\u001B[0mindexers\u001B[0m\u001B[0;34m,\u001B[0m \u001B[0mindexers_kwargs\u001B[0m\u001B[0;34m,\u001B[0m \u001B[0;34m\"isel\"\u001B[0m\u001B[0;34m)\u001B[0m\u001B[0;34m\u001B[0m\u001B[0;34m\u001B[0m\u001B[0m\n\u001B[1;32m   3069\u001B[0m         \u001B[0;32mif\u001B[0m \u001B[0many\u001B[0m\u001B[0;34m(\u001B[0m\u001B[0mis_fancy_indexer\u001B[0m\u001B[0;34m(\u001B[0m\u001B[0midx\u001B[0m\u001B[0;34m)\u001B[0m \u001B[0;32mfor\u001B[0m \u001B[0midx\u001B[0m \u001B[0;32min\u001B[0m \u001B[0mindexers\u001B[0m\u001B[0;34m.\u001B[0m\u001B[0mvalues\u001B[0m\u001B[0;34m(\u001B[0m\u001B[0;34m)\u001B[0m\u001B[0;34m)\u001B[0m\u001B[0;34m:\u001B[0m\u001B[0;34m\u001B[0m\u001B[0;34m\u001B[0m\u001B[0m\n\u001B[0;32m-> 3070\u001B[0;31m             \u001B[0;32mreturn\u001B[0m \u001B[0mself\u001B[0m\u001B[0;34m.\u001B[0m\u001B[0m_isel_fancy\u001B[0m\u001B[0;34m(\u001B[0m\u001B[0mindexers\u001B[0m\u001B[0;34m,\u001B[0m \u001B[0mdrop\u001B[0m\u001B[0;34m=\u001B[0m\u001B[0mdrop\u001B[0m\u001B[0;34m,\u001B[0m \u001B[0mmissing_dims\u001B[0m\u001B[0;34m=\u001B[0m\u001B[0mmissing_dims\u001B[0m\u001B[0;34m)\u001B[0m\u001B[0;34m\u001B[0m\u001B[0;34m\u001B[0m\u001B[0m\n\u001B[0m\u001B[1;32m   3071\u001B[0m \u001B[0;34m\u001B[0m\u001B[0m\n\u001B[1;32m   3072\u001B[0m         \u001B[0;31m# Much faster algorithm for when all indexers are ints, slices, one-dimensional\u001B[0m\u001B[0;34m\u001B[0m\u001B[0;34m\u001B[0m\u001B[0m\n\u001B[1;32m   3073\u001B[0m         \u001B[0;31m# lists, or zero or one-dimensional np.ndarray's\u001B[0m\u001B[0;34m\u001B[0m\u001B[0;34m\u001B[0m\u001B[0m\n",
      "\u001B[0;32m~/GitHub/premise-johanna/venv/lib/python3.11/site-packages/xarray/core/dataset.py\u001B[0m in \u001B[0;36m?\u001B[0;34m(self, indexers, drop, missing_dims)\u001B[0m\n\u001B[1;32m   3109\u001B[0m         \u001B[0;34m*\u001B[0m\u001B[0;34m,\u001B[0m\u001B[0;34m\u001B[0m\u001B[0;34m\u001B[0m\u001B[0m\n\u001B[1;32m   3110\u001B[0m         \u001B[0mdrop\u001B[0m\u001B[0;34m:\u001B[0m \u001B[0mbool\u001B[0m\u001B[0;34m,\u001B[0m\u001B[0;34m\u001B[0m\u001B[0;34m\u001B[0m\u001B[0m\n\u001B[1;32m   3111\u001B[0m         \u001B[0mmissing_dims\u001B[0m\u001B[0;34m:\u001B[0m \u001B[0mErrorOptionsWithWarn\u001B[0m \u001B[0;34m=\u001B[0m \u001B[0;34m\"raise\"\u001B[0m\u001B[0;34m,\u001B[0m\u001B[0;34m\u001B[0m\u001B[0;34m\u001B[0m\u001B[0m\n\u001B[1;32m   3112\u001B[0m     ) -> Self:\n\u001B[0;32m-> 3113\u001B[0;31m         \u001B[0mvalid_indexers\u001B[0m \u001B[0;34m=\u001B[0m \u001B[0mdict\u001B[0m\u001B[0;34m(\u001B[0m\u001B[0mself\u001B[0m\u001B[0;34m.\u001B[0m\u001B[0m_validate_indexers\u001B[0m\u001B[0;34m(\u001B[0m\u001B[0mindexers\u001B[0m\u001B[0;34m,\u001B[0m \u001B[0mmissing_dims\u001B[0m\u001B[0;34m)\u001B[0m\u001B[0;34m)\u001B[0m\u001B[0;34m\u001B[0m\u001B[0;34m\u001B[0m\u001B[0m\n\u001B[0m\u001B[1;32m   3114\u001B[0m \u001B[0;34m\u001B[0m\u001B[0m\n\u001B[1;32m   3115\u001B[0m         \u001B[0mvariables\u001B[0m\u001B[0;34m:\u001B[0m \u001B[0mdict\u001B[0m\u001B[0;34m[\u001B[0m\u001B[0mHashable\u001B[0m\u001B[0;34m,\u001B[0m \u001B[0mVariable\u001B[0m\u001B[0;34m]\u001B[0m \u001B[0;34m=\u001B[0m \u001B[0;34m{\u001B[0m\u001B[0;34m}\u001B[0m\u001B[0;34m\u001B[0m\u001B[0;34m\u001B[0m\u001B[0m\n\u001B[1;32m   3116\u001B[0m         \u001B[0mindexes\u001B[0m\u001B[0;34m,\u001B[0m \u001B[0mindex_variables\u001B[0m \u001B[0;34m=\u001B[0m \u001B[0misel_indexes\u001B[0m\u001B[0;34m(\u001B[0m\u001B[0mself\u001B[0m\u001B[0;34m.\u001B[0m\u001B[0mxindexes\u001B[0m\u001B[0;34m,\u001B[0m \u001B[0mvalid_indexers\u001B[0m\u001B[0;34m)\u001B[0m\u001B[0;34m\u001B[0m\u001B[0;34m\u001B[0m\u001B[0m\n",
      "\u001B[0;32m~/GitHub/premise-johanna/venv/lib/python3.11/site-packages/xarray/core/dataset.py\u001B[0m in \u001B[0;36m?\u001B[0;34m(self, indexers, missing_dims)\u001B[0m\n\u001B[1;32m   2874\u001B[0m                 \u001B[0;32mif\u001B[0m \u001B[0;32mnot\u001B[0m \u001B[0mis_duck_array\u001B[0m\u001B[0;34m(\u001B[0m\u001B[0mv\u001B[0m\u001B[0;34m)\u001B[0m\u001B[0;34m:\u001B[0m\u001B[0;34m\u001B[0m\u001B[0;34m\u001B[0m\u001B[0m\n\u001B[1;32m   2875\u001B[0m                     \u001B[0mv\u001B[0m \u001B[0;34m=\u001B[0m \u001B[0mnp\u001B[0m\u001B[0;34m.\u001B[0m\u001B[0masarray\u001B[0m\u001B[0;34m(\u001B[0m\u001B[0mv\u001B[0m\u001B[0;34m)\u001B[0m\u001B[0;34m\u001B[0m\u001B[0;34m\u001B[0m\u001B[0m\n\u001B[1;32m   2876\u001B[0m \u001B[0;34m\u001B[0m\u001B[0m\n\u001B[1;32m   2877\u001B[0m                 \u001B[0;32mif\u001B[0m \u001B[0mv\u001B[0m\u001B[0;34m.\u001B[0m\u001B[0mdtype\u001B[0m\u001B[0;34m.\u001B[0m\u001B[0mkind\u001B[0m \u001B[0;32min\u001B[0m \u001B[0;34m\"US\"\u001B[0m\u001B[0;34m:\u001B[0m\u001B[0;34m\u001B[0m\u001B[0;34m\u001B[0m\u001B[0m\n\u001B[0;32m-> 2878\u001B[0;31m                     \u001B[0mindex\u001B[0m \u001B[0;34m=\u001B[0m \u001B[0mself\u001B[0m\u001B[0;34m.\u001B[0m\u001B[0m_indexes\u001B[0m\u001B[0;34m[\u001B[0m\u001B[0mk\u001B[0m\u001B[0;34m]\u001B[0m\u001B[0;34m.\u001B[0m\u001B[0mto_pandas_index\u001B[0m\u001B[0;34m(\u001B[0m\u001B[0;34m)\u001B[0m\u001B[0;34m\u001B[0m\u001B[0;34m\u001B[0m\u001B[0m\n\u001B[0m\u001B[1;32m   2879\u001B[0m                     \u001B[0;32mif\u001B[0m \u001B[0misinstance\u001B[0m\u001B[0;34m(\u001B[0m\u001B[0mindex\u001B[0m\u001B[0;34m,\u001B[0m \u001B[0mpd\u001B[0m\u001B[0;34m.\u001B[0m\u001B[0mDatetimeIndex\u001B[0m\u001B[0;34m)\u001B[0m\u001B[0;34m:\u001B[0m\u001B[0;34m\u001B[0m\u001B[0;34m\u001B[0m\u001B[0m\n\u001B[1;32m   2880\u001B[0m                         \u001B[0mv\u001B[0m \u001B[0;34m=\u001B[0m \u001B[0mduck_array_ops\u001B[0m\u001B[0;34m.\u001B[0m\u001B[0mastype\u001B[0m\u001B[0;34m(\u001B[0m\u001B[0mv\u001B[0m\u001B[0;34m,\u001B[0m \u001B[0mdtype\u001B[0m\u001B[0;34m=\u001B[0m\u001B[0;34m\"datetime64[ns]\"\u001B[0m\u001B[0;34m)\u001B[0m\u001B[0;34m\u001B[0m\u001B[0;34m\u001B[0m\u001B[0m\n\u001B[1;32m   2881\u001B[0m                     \u001B[0;32melif\u001B[0m \u001B[0misinstance\u001B[0m\u001B[0;34m(\u001B[0m\u001B[0mindex\u001B[0m\u001B[0;34m,\u001B[0m \u001B[0mCFTimeIndex\u001B[0m\u001B[0;34m)\u001B[0m\u001B[0;34m:\u001B[0m\u001B[0;34m\u001B[0m\u001B[0;34m\u001B[0m\u001B[0m\n",
      "\u001B[0;31mKeyError\u001B[0m: 'region'"
     ]
    }
   ],
   "execution_count": 5
  },
  {
   "metadata": {},
   "cell_type": "code",
   "outputs": [],
   "execution_count": null,
   "source": "",
   "id": "5dabb5b07881236"
  }
 ],
 "metadata": {
  "kernelspec": {
   "display_name": "Python 3",
   "language": "python",
   "name": "python3"
  },
  "language_info": {
   "codemirror_mode": {
    "name": "ipython",
    "version": 2
   },
   "file_extension": ".py",
   "mimetype": "text/x-python",
   "name": "python",
   "nbconvert_exporter": "python",
   "pygments_lexer": "ipython2",
   "version": "2.7.6"
  }
 },
 "nbformat": 4,
 "nbformat_minor": 5
}
